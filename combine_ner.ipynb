{
 "cells": [
  {
   "cell_type": "code",
   "execution_count": 1,
   "metadata": {},
   "outputs": [],
   "source": [
    "import pickle\n",
    "import pandas as pd"
   ]
  },
  {
   "cell_type": "code",
   "execution_count": 2,
   "metadata": {},
   "outputs": [],
   "source": [
    "ner_combined = {'title': [], 'author':[], 'type':[], 'name entity':[]}\n",
    "\n",
    "for df_dict_ner in ['ner_publi.obj', 'ner_beletrie.obj']:\n",
    "    with open(df_dict_ner, 'rb') as f:\n",
    "        names_frame = pickle.load(f)\n",
    "        for key in ner_combined.keys():\n",
    "            ner_combined[key].extend(names_frame[key])\n",
    "pickle.dump(ner_combined, open('ner_combined.obj', 'wb'))        "
   ]
  }
 ],
 "metadata": {
  "kernelspec": {
   "display_name": "base",
   "language": "python",
   "name": "python3"
  },
  "language_info": {
   "codemirror_mode": {
    "name": "ipython",
    "version": 3
   },
   "file_extension": ".py",
   "mimetype": "text/x-python",
   "name": "python",
   "nbconvert_exporter": "python",
   "pygments_lexer": "ipython3",
   "version": "3.11.7"
  }
 },
 "nbformat": 4,
 "nbformat_minor": 2
}
