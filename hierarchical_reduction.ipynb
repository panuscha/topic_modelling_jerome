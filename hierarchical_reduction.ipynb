{
 "cells": [
  {
   "cell_type": "code",
   "execution_count": 1,
   "metadata": {},
   "outputs": [
    {
     "name": "stderr",
     "output_type": "stream",
     "text": [
      "/Users/charlottepanuskova/anaconda3/lib/python3.11/site-packages/umap/distances.py:1063: NumbaDeprecationWarning: \u001b[1mThe 'nopython' keyword argument was not supplied to the 'numba.jit' decorator. The implicit default value for this argument is currently False, but it will be changed to True in Numba 0.59.0. See https://numba.readthedocs.io/en/stable/reference/deprecation.html#deprecation-of-object-mode-fall-back-behaviour-when-using-jit for details.\u001b[0m\n",
      "  @numba.jit()\n",
      "/Users/charlottepanuskova/anaconda3/lib/python3.11/site-packages/umap/distances.py:1071: NumbaDeprecationWarning: \u001b[1mThe 'nopython' keyword argument was not supplied to the 'numba.jit' decorator. The implicit default value for this argument is currently False, but it will be changed to True in Numba 0.59.0. See https://numba.readthedocs.io/en/stable/reference/deprecation.html#deprecation-of-object-mode-fall-back-behaviour-when-using-jit for details.\u001b[0m\n",
      "  @numba.jit()\n",
      "/Users/charlottepanuskova/anaconda3/lib/python3.11/site-packages/umap/distances.py:1086: NumbaDeprecationWarning: \u001b[1mThe 'nopython' keyword argument was not supplied to the 'numba.jit' decorator. The implicit default value for this argument is currently False, but it will be changed to True in Numba 0.59.0. See https://numba.readthedocs.io/en/stable/reference/deprecation.html#deprecation-of-object-mode-fall-back-behaviour-when-using-jit for details.\u001b[0m\n",
      "  @numba.jit()\n",
      "/Users/charlottepanuskova/anaconda3/lib/python3.11/site-packages/umap/umap_.py:660: NumbaDeprecationWarning: \u001b[1mThe 'nopython' keyword argument was not supplied to the 'numba.jit' decorator. The implicit default value for this argument is currently False, but it will be changed to True in Numba 0.59.0. See https://numba.readthedocs.io/en/stable/reference/deprecation.html#deprecation-of-object-mode-fall-back-behaviour-when-using-jit for details.\u001b[0m\n",
      "  @numba.jit()\n"
     ]
    }
   ],
   "source": [
    "import math\n",
    "from top2vec import Top2Vec\n",
    "import numpy as np\n",
    "import pandas as pd\n",
    "import umap\n",
    "from csv import writer\n",
    "#import umap.plot\n",
    "import matplotlib.pyplot as plt"
   ]
  },
  {
   "cell_type": "code",
   "execution_count": 3,
   "metadata": {},
   "outputs": [],
   "source": [
    "file = 'top2vec_umap_n_n15_hdbscan_m_c_s15_doc2vec_new' #_NOV_COL_MEM_VER\n",
    "#file = 'top2vec_original_setting_new_NOV_COL_VER'\n",
    "fiction = False\n",
    "folder = 'whole books  NOV COL MEM VER' if fiction else 'whole books'\n",
    "file_ending = \"_NOV_COL_VER\" if fiction else ''\n",
    "\n",
    "df_path = 'data/results/top2vec/{folder}/{file}.xlsx'.format(folder = folder, file = file) #  NOV COL MEM VER\n",
    "model_path = 'models/{folder}/top2vec/{file}'.format(folder = folder, file = file) #  NOV COL MEM VER\n",
    "#df = pd.read_excel(df_path)\n",
    "## Load the model\n",
    "top2vec_model = Top2Vec.load(model_path)"
   ]
  },
  {
   "cell_type": "code",
   "execution_count": 16,
   "metadata": {},
   "outputs": [
    {
     "name": "stdout",
     "output_type": "stream",
     "text": [
      "['24: 0', '319: 1', '631: 2', '562: 3', '788: 4', '112: 5', '1304: 6', '950: 7', '657: 8', '1062: 9', '1162: 10', '1066: 11', '1071: 12', '1257: 13', '1139: 14', '1135: 15', '917: 16']\n",
      "dict_keys([24, 319, 631, 562, 788, 112, 1304, 950, 657, 1062, 1162, 1066, 1071, 1257, 1139, 1135, 917])\n",
      "['0: [24]', '1: [319]', '2: [631]', '3: [562]', '4: [788]', '5: [112]', '6: [1304]', '7: [950]', '8: [657]', '9: [1062]', '10: [1162]', '11: [1066]', '12: [1071]', '13: [1257]', '14: [1139]', '15: [1135]', '16: [917]']\n",
      "['0: [24]', '1: [319]', '2: [631]', '4: [562]', '3: [788, 917]', '5: [112]', '6: [1304]', '7: [950]', '9: [657]', '10: [1062]', '8: [1162]', '12: [1066]', '11: [1071]', '13: [1257]', '15: [1139]', '14: [1135]']\n",
      "['0: [24]', '1: [319]', '2: [631]', '4: [562]', '3: [788, 917]', '5: [112]', '7: [1304]', '8: [950]', '10: [657]', '11: [1062]', '9: [1162]', '6: [1066, 1135]', '12: [1071]', '13: [1257]', '14: [1139]']\n",
      "['0: [24]', '1: [319]', '3: [631]', '4: [562]', '2: [788, 917]', '6: [112]', '7: [1304]', '8: [950]', '10: [657]', '11: [1062]', '9: [1162]', '5: [1066, 1139, 1135]', '12: [1071]', '13: [1257]']\n",
      "['0: [24]', '1: [319]', '3: [631]', '5: [562]', '2: [788, 917]', '7: [112]', '8: [1304]', '9: [950]', '10: [657]', '11: [1062]', '6: [1162, 1257]', '4: [1066, 1139, 1135]', '12: [1071]']\n",
      "['0: [24]', '1: [319]', '4: [631]', '5: [562]', '3: [788, 917]', '6: [112]', '9: [1304]', '8: [950]', '10: [657]', '11: [1062]', '7: [1162, 1257]', '2: [1066, 1071, 1139, 1135]']\n",
      "['1: [24]', '0: [319]', '4: [631]', '5: [562]', '2: [788, 1062, 917]', '6: [112]', '9: [1304]', '8: [950]', '10: [657]', '7: [1162, 1257]', '3: [1066, 1071, 1139, 1135]']\n",
      "['1: [24]', '0: [319]', '2: [631, 657]', '5: [562]', '3: [788, 1062, 917]', '6: [112]', '9: [1304]', '7: [950]', '8: [1162, 1257]', '4: [1066, 1071, 1139, 1135]']\n",
      "['0: [24]', '1: [319]', '2: [631, 950, 657]', '5: [562]', '3: [788, 1062, 917]', '7: [112]', '8: [1304]', '6: [1162, 1257]', '4: [1066, 1071, 1139, 1135]']\n",
      "['0: [24]', '1: [319]', '2: [631, 950, 657]', '6: [562]', '3: [788, 1062, 917]', '7: [112]', '5: [1304, 1162, 1257]', '4: [1066, 1071, 1139, 1135]']\n",
      "['0: [24, 112]', '1: [319]', '2: [631, 950, 657]', '6: [562]', '3: [788, 1062, 917]', '5: [1304, 1162, 1257]', '4: [1066, 1071, 1139, 1135]']\n",
      "['0: [24, 562, 112]', '1: [319]', '2: [631, 950, 657]', '3: [788, 1062, 917]', '5: [1304, 1162, 1257]', '4: [1066, 1071, 1139, 1135]']\n",
      "['0: [24, 562, 112]', '2: [319]', '1: [631, 1304, 950, 657, 1162, 1257]', '3: [788, 1062, 917]', '4: [1066, 1071, 1139, 1135]']\n",
      "['1: [24, 562, 112]', '2: [319]', '0: [631, 1304, 950, 657, 1162, 1066, 1071, 1257, 1139, 1135]', '3: [788, 1062, 917]']\n",
      "['1: [24, 562, 112]', '2: [319]', '0: [631, 788, 1304, 950, 657, 1062, 1162, 1066, 1071, 1257, 1139, 1135, 917]']\n",
      "['1: [24, 319, 562, 112]', '0: [631, 788, 1304, 950, 657, 1062, 1162, 1066, 1071, 1257, 1139, 1135, 917]']\n"
     ]
    }
   ],
   "source": [
    "from collections import defaultdict\n",
    "\n",
    "# Number of clusters\n",
    "topic_sizes, topic_nums_original = top2vec_model.get_topic_sizes()\n",
    "\n",
    "documents_topics = {}\n",
    "\n",
    "for topic_num in topic_nums_original: \n",
    "\n",
    "        # Get documents that are part of the topic\n",
    "        documents, document_scores, document_ids = top2vec_model.search_documents_by_topic(topic_num=topic_num, num_docs=1)\n",
    "\n",
    "        documents_topics[document_ids[0]] = [topic_num]\n",
    "\n",
    "# Reduce clusters\n",
    "for i in reversed(range(2, max(topic_nums_original)+1)):\n",
    "    ret = top2vec_model.hierarchical_topic_reduction(num_topics=i)\n",
    "\n",
    "    topic_sizes, topic_nums = top2vec_model.get_topic_sizes()\n",
    " \n",
    "    for key in documents_topics.keys():\n",
    "            \n",
    "            topic, _, _, _ = top2vec_model.get_documents_topics(doc_ids = [key], reduced = True)\n",
    "\n",
    "            documents_topics[key].append(topic[0])    \n",
    "\n",
    "print([f'{key}: {documents_topics[key][0]}' for key in documents_topics.keys()])  \n",
    "print(documents_topics.keys())    \n",
    "for i in range((len(documents_topics[24]))):\n",
    "       temp_document_topic = defaultdict(lambda: [])\n",
    "       for  key in documents_topics.keys():\n",
    "            temp_document_topic[documents_topics[key][i]].append(key) \n",
    "       print([f'{key}: {temp_document_topic[key]}' for key in temp_document_topic.keys()])     \n",
    "       #    \n",
    "\n"
   ]
  },
  {
   "cell_type": "code",
   "execution_count": 25,
   "metadata": {},
   "outputs": [
    {
     "data": {
      "text/plain": [
       "array([], dtype=float64)"
      ]
     },
     "execution_count": 25,
     "metadata": {},
     "output_type": "execute_result"
    }
   ],
   "source": [
    "import numpy as np\n",
    "\n",
    "from scipy.cluster.hierarchy import dendrogram, linkage\n",
    "from scipy.spatial.distance import squareform\n",
    "\n",
    "import matplotlib.pyplot as plt\n",
    "\n",
    "\n",
    "mat = np.array([[0.0, 2.0, 0.1], [2.0, 0.0, 2.0], [0.1, 2.0, 0.0]])\n",
    "dists = squareform(mat)\n",
    "linkage_matrix = linkage(dists, \"single\")\n",
    "dendrogram(linkage_matrix, labels=[\"0\", \"1\", \"2\"])\n",
    "plt.title(\"test\")\n",
    "plt.show()\n"
   ]
  },
  {
   "cell_type": "code",
   "execution_count": 27,
   "metadata": {},
   "outputs": [
    {
     "data": {
      "image/png": "[encoded data removed]",
      "text/plain": [
       "<Figure size 640x480 with 1 Axes>"
      ]
     },
     "metadata": {},
     "output_type": "display_data"
    }
   ],
   "source": [
    "import numpy as np\n",
    "from matplotlib import pyplot as plt\n",
    "from scipy.cluster.hierarchy import dendrogram\n",
    "\n",
    "from sklearn.cluster import AgglomerativeClustering\n",
    "from sklearn.datasets import load_iris\n",
    "\n",
    "\n",
    "def plot_dendrogram(model, **kwargs):\n",
    "    # Create linkage matrix and then plot the dendrogram\n",
    "\n",
    "    # create the counts of samples under each node\n",
    "    counts = np.zeros(model.children_.shape[0])\n",
    "    n_samples = len(model.labels_)\n",
    "    for i, merge in enumerate(model.children_):\n",
    "        current_count = 0\n",
    "        for child_idx in merge:\n",
    "            if child_idx < n_samples:\n",
    "                current_count += 1  # leaf node\n",
    "            else:\n",
    "                current_count += counts[child_idx - n_samples]\n",
    "        counts[i] = current_count\n",
    "\n",
    "    linkage_matrix = np.column_stack(\n",
    "        [model.children_, model.distances_, counts]\n",
    "    ).astype(float)\n",
    "\n",
    "    # Plot the corresponding dendrogram\n",
    "    dendrogram(linkage_matrix, **kwargs)\n",
    "\n",
    "\n",
    "iris = load_iris()\n",
    "X = iris.data\n",
    "\n",
    "# setting distance_threshold=0 ensures we compute the full tree.\n",
    "model = AgglomerativeClustering(distance_threshold=0, n_clusters=None)\n",
    "\n",
    "model = model.fit(X)\n",
    "plt.title(\"Hierarchical Clustering Dendrogram\")\n",
    "# plot the top three levels of the dendrogram\n",
    "plot_dendrogram(model, truncate_mode=\"level\", p=3)\n",
    "plt.xlabel(\"Number of points in node (or index of point if no parenthesis).\")\n",
    "plt.show()"
   ]
  },
  {
   "cell_type": "code",
   "execution_count": 28,
   "metadata": {},
   "outputs": [
    {
     "data": {
      "text/html": [
       "<style>#sk-container-id-1 {color: black;}#sk-container-id-1 pre{padding: 0;}#sk-container-id-1 div.sk-toggleable {background-color: white;}#sk-container-id-1 label.sk-toggleable__label {cursor: pointer;display: block;width: 100%;margin-bottom: 0;padding: 0.3em;box-sizing: border-box;text-align: center;}#sk-container-id-1 label.sk-toggleable__label-arrow:before {content: \"▸\";float: left;margin-right: 0.25em;color: #696969;}#sk-container-id-1 label.sk-toggleable__label-arrow:hover:before {color: black;}#sk-container-id-1 div.sk-estimator:hover label.sk-toggleable__label-arrow:before {color: black;}#sk-container-id-1 div.sk-toggleable__content {max-height: 0;max-width: 0;overflow: hidden;text-align: left;background-color: #f0f8ff;}#sk-container-id-1 div.sk-toggleable__content pre {margin: 0.2em;color: black;border-radius: 0.25em;background-color: #f0f8ff;}#sk-container-id-1 input.sk-toggleable__control:checked~div.sk-toggleable__content {max-height: 200px;max-width: 100%;overflow: auto;}#sk-container-id-1 input.sk-toggleable__control:checked~label.sk-toggleable__label-arrow:before {content: \"▾\";}#sk-container-id-1 div.sk-estimator input.sk-toggleable__control:checked~label.sk-toggleable__label {background-color: #d4ebff;}#sk-container-id-1 div.sk-label input.sk-toggleable__control:checked~label.sk-toggleable__label {background-color: #d4ebff;}#sk-container-id-1 input.sk-hidden--visually {border: 0;clip: rect(1px 1px 1px 1px);clip: rect(1px, 1px, 1px, 1px);height: 1px;margin: -1px;overflow: hidden;padding: 0;position: absolute;width: 1px;}#sk-container-id-1 div.sk-estimator {font-family: monospace;background-color: #f0f8ff;border: 1px dotted black;border-radius: 0.25em;box-sizing: border-box;margin-bottom: 0.5em;}#sk-container-id-1 div.sk-estimator:hover {background-color: #d4ebff;}#sk-container-id-1 div.sk-parallel-item::after {content: \"\";width: 100%;border-bottom: 1px solid gray;flex-grow: 1;}#sk-container-id-1 div.sk-label:hover label.sk-toggleable__label {background-color: #d4ebff;}#sk-container-id-1 div.sk-serial::before {content: \"\";position: absolute;border-left: 1px solid gray;box-sizing: border-box;top: 0;bottom: 0;left: 50%;z-index: 0;}#sk-container-id-1 div.sk-serial {display: flex;flex-direction: column;align-items: center;background-color: white;padding-right: 0.2em;padding-left: 0.2em;position: relative;}#sk-container-id-1 div.sk-item {position: relative;z-index: 1;}#sk-container-id-1 div.sk-parallel {display: flex;align-items: stretch;justify-content: center;background-color: white;position: relative;}#sk-container-id-1 div.sk-item::before, #sk-container-id-1 div.sk-parallel-item::before {content: \"\";position: absolute;border-left: 1px solid gray;box-sizing: border-box;top: 0;bottom: 0;left: 50%;z-index: -1;}#sk-container-id-1 div.sk-parallel-item {display: flex;flex-direction: column;z-index: 1;position: relative;background-color: white;}#sk-container-id-1 div.sk-parallel-item:first-child::after {align-self: flex-end;width: 50%;}#sk-container-id-1 div.sk-parallel-item:last-child::after {align-self: flex-start;width: 50%;}#sk-container-id-1 div.sk-parallel-item:only-child::after {width: 0;}#sk-container-id-1 div.sk-dashed-wrapped {border: 1px dashed gray;margin: 0 0.4em 0.5em 0.4em;box-sizing: border-box;padding-bottom: 0.4em;background-color: white;}#sk-container-id-1 div.sk-label label {font-family: monospace;font-weight: bold;display: inline-block;line-height: 1.2em;}#sk-container-id-1 div.sk-label-container {text-align: center;}#sk-container-id-1 div.sk-container {/* jupyter's `normalize.less` sets `[hidden] { display: none; }` but bootstrap.min.css set `[hidden] { display: none !important; }` so we also need the `!important` here to be able to override the default hidden behavior on the sphinx rendered scikit-learn.org. See: https://github.com/scikit-learn/scikit-learn/issues/21755 */display: inline-block !important;position: relative;}#sk-container-id-1 div.sk-text-repr-fallback {display: none;}</style><div id=\"sk-container-id-1\" class=\"sk-top-container\"><div class=\"sk-text-repr-fallback\"><pre>AgglomerativeClustering(distance_threshold=0, n_clusters=None)</pre><b>In a Jupyter environment, please rerun this cell to show the HTML representation or trust the notebook. <br />On GitHub, the HTML representation is unable to render, please try loading this page with nbviewer.org.</b></div><div class=\"sk-container\" hidden><div class=\"sk-item\"><div class=\"sk-estimator sk-toggleable\"><input class=\"sk-toggleable__control sk-hidden--visually\" id=\"sk-estimator-id-1\" type=\"checkbox\" checked><label for=\"sk-estimator-id-1\" class=\"sk-toggleable__label sk-toggleable__label-arrow\">AgglomerativeClustering</label><div class=\"sk-toggleable__content\"><pre>AgglomerativeClustering(distance_threshold=0, n_clusters=None)</pre></div></div></div></div></div>"
      ],
      "text/plain": [
       "AgglomerativeClustering(distance_threshold=0, n_clusters=None)"
      ]
     },
     "execution_count": 28,
     "metadata": {},
     "output_type": "execute_result"
    }
   ],
   "source": [
    "model"
   ]
  }
 ],
 "metadata": {
  "kernelspec": {
   "display_name": "base",
   "language": "python",
   "name": "python3"
  },
  "language_info": {
   "codemirror_mode": {
    "name": "ipython",
    "version": 3
   },
   "file_extension": ".py",
   "mimetype": "text/x-python",
   "name": "python",
   "nbconvert_exporter": "python",
   "pygments_lexer": "ipython3",
   "version": "3.11.7"
  }
 },
 "nbformat": 4,
 "nbformat_minor": 2
}
