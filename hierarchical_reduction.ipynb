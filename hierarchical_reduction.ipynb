{
 "cells": [
  {
   "cell_type": "code",
   "execution_count": 24,
   "metadata": {},
   "outputs": [],
   "source": [
    "import math\n",
    "from top2vec import Top2Vec\n",
    "import numpy as np\n",
    "import pandas as pd\n",
    "import umap\n",
    "from csv import writer\n",
    "#import umap.plot\n",
    "import matplotlib.pyplot as plt\n",
    "from sklearn.cluster import AgglomerativeClustering\n",
    "from sklearn.metrics.pairwise import cosine_distances\n",
    "from scipy.cluster.hierarchy import dendrogram, linkage\n",
    "import matplotlib.pyplot as plt"
   ]
  },
  {
   "cell_type": "code",
   "execution_count": 38,
   "metadata": {},
   "outputs": [],
   "source": [
    "file = 'top2vec_umap_n_n15_hdbscan_m_c_s15_doc2vec_new' #_NOV_COL_MEM_VER\n",
    "#file = 'top2vec_original_setting_new_NOV_COL_MEM_VER'\n",
    "fiction = False\n",
    "folder = 'whole books  NOV COL MEM VER' if fiction else 'whole books'\n",
    "file_ending = \"_NOV_COL_MEM_VER\" if fiction else ''\n",
    "file = file+file_ending\n",
    "\n",
    "df_path = 'data/results/top2vec/{folder}/{file}.xlsx'.format(folder = folder, file = file) #  NOV COL MEM VER\n",
    "model_path = 'models/{folder}/top2vec/{file}'.format(folder = folder, file = file) #  NOV COL MEM VER\n",
    "#df = pd.read_excel(df_path)\n",
    "## Load the model\n",
    "top2vec_model = Top2Vec.load(model_path)"
   ]
  },
  {
   "cell_type": "code",
   "execution_count": 36,
   "metadata": {},
   "outputs": [
    {
     "name": "stdout",
     "output_type": "stream",
     "text": [
      "[[0], [5, 1], [2], [3], [4]]\n",
      "[[4, 5, 1], [0], [2], [3]]\n",
      "[[4, 5, 1], [3, 0], [2]]\n",
      "[[2, 3, 0], [4, 5, 1]]\n",
      "['319: 0', '194: 1', '475: 2', '112: 3', '99: 4', '596: 5']\n",
      "dict_keys([319, 194, 475, 112, 99, 596])\n"
     ]
    },
    {
     "ename": "KeyError",
     "evalue": "24",
     "output_type": "error",
     "traceback": [
      "\u001b[0;31m---------------------------------------------------------------------------\u001b[0m",
      "\u001b[0;31mKeyError\u001b[0m                                  Traceback (most recent call last)",
      "Cell \u001b[0;32mIn[36], line 31\u001b[0m\n\u001b[1;32m     29\u001b[0m \u001b[38;5;28mprint\u001b[39m([\u001b[38;5;124mf\u001b[39m\u001b[38;5;124m'\u001b[39m\u001b[38;5;132;01m{\u001b[39;00mkey\u001b[38;5;132;01m}\u001b[39;00m\u001b[38;5;124m: \u001b[39m\u001b[38;5;132;01m{\u001b[39;00mdocuments_topics[key][\u001b[38;5;241m0\u001b[39m]\u001b[38;5;132;01m}\u001b[39;00m\u001b[38;5;124m'\u001b[39m \u001b[38;5;28;01mfor\u001b[39;00m key \u001b[38;5;129;01min\u001b[39;00m documents_topics\u001b[38;5;241m.\u001b[39mkeys()])  \n\u001b[1;32m     30\u001b[0m \u001b[38;5;28mprint\u001b[39m(documents_topics\u001b[38;5;241m.\u001b[39mkeys())    \n\u001b[0;32m---> 31\u001b[0m \u001b[38;5;28;01mfor\u001b[39;00m i \u001b[38;5;129;01min\u001b[39;00m \u001b[38;5;28mrange\u001b[39m((\u001b[38;5;28mlen\u001b[39m(\u001b[43mdocuments_topics\u001b[49m\u001b[43m[\u001b[49m\u001b[38;5;241;43m24\u001b[39;49m\u001b[43m]\u001b[49m))):\n\u001b[1;32m     32\u001b[0m        temp_document_topic \u001b[38;5;241m=\u001b[39m defaultdict(\u001b[38;5;28;01mlambda\u001b[39;00m: [])\n\u001b[1;32m     33\u001b[0m        \u001b[38;5;28;01mfor\u001b[39;00m  key \u001b[38;5;129;01min\u001b[39;00m documents_topics\u001b[38;5;241m.\u001b[39mkeys():\n",
      "\u001b[0;31mKeyError\u001b[0m: 24"
     ]
    }
   ],
   "source": [
    "from collections import defaultdict\n",
    "\n",
    "# Number of clusters\n",
    "topic_sizes, topic_nums_original = top2vec_model.get_topic_sizes()\n",
    "\n",
    "documents_topics = {}\n",
    "\n",
    "for topic_num in topic_nums_original: \n",
    "\n",
    "        # Get documents that are part of the topic\n",
    "        documents, document_scores, document_ids = top2vec_model.search_documents_by_topic(topic_num=topic_num, num_docs=1)\n",
    "\n",
    "        documents_topics[document_ids[0]] = [topic_num]\n",
    "\n",
    "# Reduce clusters\n",
    "for i in reversed(range(2, max(topic_nums_original)+1)):\n",
    "    ret = top2vec_model.hierarchical_topic_reduction(num_topics=i)\n",
    "\n",
    "    print(ret)\n",
    "\n",
    "#     topic_sizes, topic_nums = top2vec_model.get_topic_sizes()\n",
    " \n",
    "#     for key in documents_topics.keys():\n",
    "            \n",
    "#             topic, _, _, _ = top2vec_model.get_documents_topics(doc_ids = [key], reduced = True)\n",
    "\n",
    "#             documents_topics[key].append(topic[0])    \n",
    "\n",
    "print([f'{key}: {documents_topics[key][0]}' for key in documents_topics.keys()])  \n",
    "print(documents_topics.keys())    \n",
    "\n"
   ]
  },
  {
   "cell_type": "code",
   "execution_count": 25,
   "metadata": {},
   "outputs": [
    {
     "data": {
      "text/plain": [
       "array([], dtype=float64)"
      ]
     },
     "execution_count": 25,
     "metadata": {},
     "output_type": "execute_result"
    }
   ],
   "source": [
    "import numpy as np\n",
    "\n",
    "from scipy.cluster.hierarchy import dendrogram, linkage\n",
    "from scipy.spatial.distance import squareform\n",
    "\n",
    "import matplotlib.pyplot as plt\n",
    "\n",
    "\n",
    "mat = np.array([[0.0, 2.0, 0.1], [2.0, 0.0, 2.0], [0.1, 2.0, 0.0]])\n",
    "dists = squareform(mat)\n",
    "linkage_matrix = linkage(dists, \"single\")\n",
    "dendrogram(linkage_matrix, labels=[\"0\", \"1\", \"2\"])\n",
    "plt.title(\"test\")\n",
    "plt.show()\n"
   ]
  },
  {
   "cell_type": "code",
   "execution_count": 5,
   "metadata": {},
   "outputs": [
    {
     "name": "stdout",
     "output_type": "stream",
     "text": [
      "[[9, 16, 4, 12, 14, 15, 11, 6, 13, 10, 7, 8, 2], [1, 3, 5, 0]]\n"
     ]
    }
   ],
   "source": [
    "ret = top2vec_model.hierarchical_topic_reduction(2)\n",
    "print(ret)"
   ]
  },
  {
   "cell_type": "code",
   "execution_count": 39,
   "metadata": {},
   "outputs": [
    {
     "name": "stderr",
     "output_type": "stream",
     "text": [
      "/Users/charlottepanuskova/anaconda3/lib/python3.11/site-packages/sklearn/cluster/_agglomerative.py:1006: FutureWarning: Attribute `affinity` was deprecated in version 1.2 and will be removed in 1.4. Use `metric` instead\n",
      "  warnings.warn(\n",
      "/var/folders/sq/pxhs33t53bz1x33q9fhn04w00000gn/T/ipykernel_35618/1944642216.py:14: ClusterWarning: scipy.cluster: The symmetric non-negative hollow observation matrix looks suspiciously like an uncondensed distance matrix\n",
      "  linked = linkage(distance_matrix, 'average')\n"
     ]
    },
    {
     "data": {
      "image/png": "[encoded data removed]",
      "text/plain": [
       "<Figure size 1000x700 with 1 Axes>"
      ]
     },
     "metadata": {},
     "output_type": "display_data"
    }
   ],
   "source": [
    "topic_embeddings = top2vec_model.topic_vectors\n",
    "distance_matrix = cosine_distances(topic_embeddings)\n",
    "\n",
    "# hierarchical clustering\n",
    "clustering_model = AgglomerativeClustering(n_clusters=None, distance_threshold=0, affinity='precomputed', linkage='average')\n",
    "clustering_model.fit(distance_matrix)\n",
    "\n",
    "linked = linkage(distance_matrix, 'average')\n",
    "plt.figure(figsize=(10, 7))\n",
    "dendrogram(linked)\n",
    "plt.show()\n",
    "\n",
    "labels = clustering_model.labels_\n"
   ]
  },
  {
   "cell_type": "code",
   "execution_count": 22,
   "metadata": {},
   "outputs": [
    {
     "ename": "ValueError",
     "evalue": "Linkage 'Z' uses non-singleton cluster before it is formed.",
     "output_type": "error",
     "traceback": [
      "\u001b[0;31m---------------------------------------------------------------------------\u001b[0m",
      "\u001b[0;31mValueError\u001b[0m                                Traceback (most recent call last)",
      "Cell \u001b[0;32mIn[22], line 68\u001b[0m\n\u001b[1;32m     66\u001b[0m \u001b[38;5;66;03m# Usage\u001b[39;00m\n\u001b[1;32m     67\u001b[0m merge_history \u001b[38;5;241m=\u001b[39m collect_linkage_during_reduction(top2vec_model, num_topics\u001b[38;5;241m=\u001b[39m\u001b[38;5;241m15\u001b[39m)\n\u001b[0;32m---> 68\u001b[0m \u001b[43mplot_dendrogram\u001b[49m\u001b[43m(\u001b[49m\u001b[43mmerge_history\u001b[49m\u001b[43m)\u001b[49m\n",
      "Cell \u001b[0;32mIn[22], line 63\u001b[0m, in \u001b[0;36mplot_dendrogram\u001b[0;34m(merge_history)\u001b[0m\n\u001b[1;32m     61\u001b[0m \u001b[38;5;28;01mdef\u001b[39;00m \u001b[38;5;21mplot_dendrogram\u001b[39m(merge_history):\n\u001b[1;32m     62\u001b[0m     plt\u001b[38;5;241m.\u001b[39mfigure(figsize\u001b[38;5;241m=\u001b[39m(\u001b[38;5;241m10\u001b[39m, \u001b[38;5;241m7\u001b[39m))\n\u001b[0;32m---> 63\u001b[0m     \u001b[43mdendrogram\u001b[49m\u001b[43m(\u001b[49m\u001b[43mmerge_history\u001b[49m\u001b[43m,\u001b[49m\u001b[43m \u001b[49m\u001b[43mno_labels\u001b[49m\u001b[38;5;241;43m=\u001b[39;49m\u001b[38;5;28;43;01mTrue\u001b[39;49;00m\u001b[43m)\u001b[49m\n\u001b[1;32m     64\u001b[0m     plt\u001b[38;5;241m.\u001b[39mshow()\n",
      "File \u001b[0;32m~/anaconda3/lib/python3.11/site-packages/scipy/cluster/hierarchy.py:3306\u001b[0m, in \u001b[0;36mdendrogram\u001b[0;34m(Z, p, truncate_mode, color_threshold, get_leaves, orientation, labels, count_sort, distance_sort, show_leaf_counts, no_plot, no_labels, leaf_font_size, leaf_rotation, leaf_label_func, show_contracted, link_color_func, ax, above_threshold_color)\u001b[0m\n\u001b[1;32m   3303\u001b[0m \u001b[38;5;28;01mif\u001b[39;00m labels \u001b[38;5;129;01mis\u001b[39;00m \u001b[38;5;129;01mnot\u001b[39;00m \u001b[38;5;28;01mNone\u001b[39;00m \u001b[38;5;129;01mand\u001b[39;00m Z\u001b[38;5;241m.\u001b[39mshape[\u001b[38;5;241m0\u001b[39m] \u001b[38;5;241m+\u001b[39m \u001b[38;5;241m1\u001b[39m \u001b[38;5;241m!=\u001b[39m \u001b[38;5;28mlen\u001b[39m(labels):\n\u001b[1;32m   3304\u001b[0m     \u001b[38;5;28;01mraise\u001b[39;00m \u001b[38;5;167;01mValueError\u001b[39;00m(\u001b[38;5;124m\"\u001b[39m\u001b[38;5;124mDimensions of Z and labels must be consistent.\u001b[39m\u001b[38;5;124m\"\u001b[39m)\n\u001b[0;32m-> 3306\u001b[0m \u001b[43mis_valid_linkage\u001b[49m\u001b[43m(\u001b[49m\u001b[43mZ\u001b[49m\u001b[43m,\u001b[49m\u001b[43m \u001b[49m\u001b[43mthrow\u001b[49m\u001b[38;5;241;43m=\u001b[39;49m\u001b[38;5;28;43;01mTrue\u001b[39;49;00m\u001b[43m,\u001b[49m\u001b[43m \u001b[49m\u001b[43mname\u001b[49m\u001b[38;5;241;43m=\u001b[39;49m\u001b[38;5;124;43m'\u001b[39;49m\u001b[38;5;124;43mZ\u001b[39;49m\u001b[38;5;124;43m'\u001b[39;49m\u001b[43m)\u001b[49m\n\u001b[1;32m   3307\u001b[0m Zs \u001b[38;5;241m=\u001b[39m Z\u001b[38;5;241m.\u001b[39mshape\n\u001b[1;32m   3308\u001b[0m n \u001b[38;5;241m=\u001b[39m Zs[\u001b[38;5;241m0\u001b[39m] \u001b[38;5;241m+\u001b[39m \u001b[38;5;241m1\u001b[39m\n",
      "File \u001b[0;32m~/anaconda3/lib/python3.11/site-packages/scipy/cluster/hierarchy.py:2289\u001b[0m, in \u001b[0;36mis_valid_linkage\u001b[0;34m(Z, warning, throw, name)\u001b[0m\n\u001b[1;32m   2286\u001b[0m         \u001b[38;5;28;01mraise\u001b[39;00m \u001b[38;5;167;01mValueError\u001b[39;00m(\u001b[38;5;124m'\u001b[39m\u001b[38;5;124mLinkage \u001b[39m\u001b[38;5;132;01m%s\u001b[39;00m\u001b[38;5;124mcontains negative counts.\u001b[39m\u001b[38;5;124m'\u001b[39m \u001b[38;5;241m%\u001b[39m\n\u001b[1;32m   2287\u001b[0m                          name_str)\n\u001b[1;32m   2288\u001b[0m \u001b[38;5;28;01mif\u001b[39;00m _check_hierarchy_uses_cluster_before_formed(Z):\n\u001b[0;32m-> 2289\u001b[0m     \u001b[38;5;28;01mraise\u001b[39;00m \u001b[38;5;167;01mValueError\u001b[39;00m(\u001b[38;5;124m'\u001b[39m\u001b[38;5;124mLinkage \u001b[39m\u001b[38;5;132;01m%s\u001b[39;00m\u001b[38;5;124muses non-singleton cluster before \u001b[39m\u001b[38;5;124m'\u001b[39m\n\u001b[1;32m   2290\u001b[0m                      \u001b[38;5;124m'\u001b[39m\u001b[38;5;124mit is formed.\u001b[39m\u001b[38;5;124m'\u001b[39m \u001b[38;5;241m%\u001b[39m name_str)\n\u001b[1;32m   2291\u001b[0m \u001b[38;5;28;01mif\u001b[39;00m _check_hierarchy_uses_cluster_more_than_once(Z):\n\u001b[1;32m   2292\u001b[0m     \u001b[38;5;28;01mraise\u001b[39;00m \u001b[38;5;167;01mValueError\u001b[39;00m(\u001b[38;5;124m'\u001b[39m\u001b[38;5;124mLinkage \u001b[39m\u001b[38;5;132;01m%s\u001b[39;00m\u001b[38;5;124muses the same cluster more than once.\u001b[39m\u001b[38;5;124m'\u001b[39m\n\u001b[1;32m   2293\u001b[0m                      \u001b[38;5;241m%\u001b[39m name_str)\n",
      "\u001b[0;31mValueError\u001b[0m: Linkage 'Z' uses non-singleton cluster before it is formed."
     ]
    },
    {
     "data": {
      "text/plain": [
       "<Figure size 1000x700 with 0 Axes>"
      ]
     },
     "metadata": {},
     "output_type": "display_data"
    }
   ],
   "source": [
    "import numpy as np\n",
    "import matplotlib.pyplot as plt\n",
    "from scipy.cluster.hierarchy import dendrogram\n",
    "\n",
    "# Assume `top2vec_model` is your trained Top2Vec model\n",
    "\n",
    "def collect_linkage_during_reduction(model, num_topics):\n",
    "    merge_history = []\n",
    "    top_vecs = model.topic_vectors\n",
    "    top_sizes = [model.topic_sizes[i] for i in range(len(model.topic_sizes))]\n",
    "    \n",
    "    current_cluster_id = len(top_vecs)\n",
    "    cluster_map = {i: i for i in range(len(top_vecs))}  # Maps old indices to new indices\n",
    "    \n",
    "    while len(top_vecs) > num_topics:\n",
    "        smallest = np.argmin(top_sizes)\n",
    "        res = np.inner(top_vecs[smallest], top_vecs)\n",
    "        sims = np.flip(np.argsort(res))\n",
    "        most_sim = sims[1]\n",
    "        if most_sim == smallest:\n",
    "            most_sim = sims[0]\n",
    "\n",
    "        distance = 1 - res[most_sim]\n",
    "\n",
    "        # Append merge data: [index1, index2, distance, new cluster size]\n",
    "        merge_history.append([\n",
    "            min(cluster_map[smallest], cluster_map[most_sim]),\n",
    "            max(cluster_map[smallest], cluster_map[most_sim]),\n",
    "            distance,\n",
    "            top_sizes[smallest] + top_sizes[most_sim]\n",
    "        ])\n",
    "\n",
    "        # Merge clusters\n",
    "        top_vec_smallest = top_vecs[smallest]\n",
    "        smallest_size = top_sizes[smallest]\n",
    "\n",
    "        top_vec_most_sim = top_vecs[most_sim]\n",
    "        most_sim_size = top_sizes[most_sim]\n",
    "\n",
    "        combined_vec = model._l2_normalize(((top_vec_smallest * smallest_size) +\n",
    "                                            (top_vec_most_sim * most_sim_size)) / (smallest_size + most_sim_size))\n",
    "\n",
    "        # Remove old clusters and append the new one\n",
    "        ix_keep = list(range(len(top_vecs)))\n",
    "        ix_keep.remove(smallest)\n",
    "        ix_keep.remove(most_sim)\n",
    "        top_vecs = top_vecs[ix_keep]\n",
    "        top_vecs = np.vstack([top_vecs, combined_vec])\n",
    "        top_sizes.append(smallest_size + most_sim_size)\n",
    "        top_sizes = [top_sizes[i] for i in ix_keep]\n",
    "        \n",
    "        # Update cluster map\n",
    "        cluster_map[smallest] = current_cluster_id\n",
    "        cluster_map[most_sim] = current_cluster_id\n",
    "        \n",
    "        current_cluster_id += 1\n",
    "    \n",
    "    return np.array(merge_history)\n",
    "\n",
    "# Plotting the dendrogram\n",
    "def plot_dendrogram(merge_history):\n",
    "    plt.figure(figsize=(10, 7))\n",
    "    dendrogram(merge_history, no_labels=True)\n",
    "    plt.show()\n",
    "\n",
    "# Usage\n",
    "merge_history = collect_linkage_during_reduction(top2vec_model, num_topics=15)\n",
    "plot_dendrogram(merge_history)\n"
   ]
  }
 ],
 "metadata": {
  "kernelspec": {
   "display_name": "base",
   "language": "python",
   "name": "python3"
  },
  "language_info": {
   "codemirror_mode": {
    "name": "ipython",
    "version": 3
   },
   "file_extension": ".py",
   "mimetype": "text/x-python",
   "name": "python",
   "nbconvert_exporter": "python",
   "pygments_lexer": "ipython3",
   "version": "3.11.7"
  }
 },
 "nbformat": 4,
 "nbformat_minor": 2
}
