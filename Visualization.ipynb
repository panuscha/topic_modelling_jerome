{
 "cells": [
  {
   "cell_type": "code",
   "execution_count": 2,
   "metadata": {},
   "outputs": [
    {
     "name": "stderr",
     "output_type": "stream",
     "text": [
      "/Users/charlottepanuskova/anaconda3/lib/python3.11/site-packages/umap/distances.py:1063: NumbaDeprecationWarning: \u001b[1mThe 'nopython' keyword argument was not supplied to the 'numba.jit' decorator. The implicit default value for this argument is currently False, but it will be changed to True in Numba 0.59.0. See https://numba.readthedocs.io/en/stable/reference/deprecation.html#deprecation-of-object-mode-fall-back-behaviour-when-using-jit for details.\u001b[0m\n",
      "  @numba.jit()\n",
      "/Users/charlottepanuskova/anaconda3/lib/python3.11/site-packages/umap/distances.py:1071: NumbaDeprecationWarning: \u001b[1mThe 'nopython' keyword argument was not supplied to the 'numba.jit' decorator. The implicit default value for this argument is currently False, but it will be changed to True in Numba 0.59.0. See https://numba.readthedocs.io/en/stable/reference/deprecation.html#deprecation-of-object-mode-fall-back-behaviour-when-using-jit for details.\u001b[0m\n",
      "  @numba.jit()\n",
      "/Users/charlottepanuskova/anaconda3/lib/python3.11/site-packages/umap/distances.py:1086: NumbaDeprecationWarning: \u001b[1mThe 'nopython' keyword argument was not supplied to the 'numba.jit' decorator. The implicit default value for this argument is currently False, but it will be changed to True in Numba 0.59.0. See https://numba.readthedocs.io/en/stable/reference/deprecation.html#deprecation-of-object-mode-fall-back-behaviour-when-using-jit for details.\u001b[0m\n",
      "  @numba.jit()\n",
      "/Users/charlottepanuskova/anaconda3/lib/python3.11/site-packages/umap/umap_.py:660: NumbaDeprecationWarning: \u001b[1mThe 'nopython' keyword argument was not supplied to the 'numba.jit' decorator. The implicit default value for this argument is currently False, but it will be changed to True in Numba 0.59.0. See https://numba.readthedocs.io/en/stable/reference/deprecation.html#deprecation-of-object-mode-fall-back-behaviour-when-using-jit for details.\u001b[0m\n",
      "  @numba.jit()\n"
     ]
    }
   ],
   "source": [
    "import math\n",
    "from top2vec import Top2Vec\n",
    "import numpy as np\n",
    "import pandas as pd\n",
    "import umap\n",
    "from csv import writer\n",
    "#import umap.plot\n",
    "import matplotlib.pyplot as plt\n"
   ]
  },
  {
   "cell_type": "markdown",
   "metadata": {},
   "source": [
    "### LOAD FILES"
   ]
  },
  {
   "cell_type": "code",
   "execution_count": 19,
   "metadata": {},
   "outputs": [],
   "source": [
    "\n",
    "\n",
    "#file = 'top2vec_umap_n_n15_hdbscan_m_c_s15_doc2vec_new' #_NOV_COL_MEM_VER\n",
    "file = 'top2vec_original_setting_new_NOV_COL_VER'\n",
    "fiction = True\n",
    "folder = 'whole books  NOV COL MEM VER' if fiction else 'whole books'\n",
    "file_ending = \"_NOV_COL_VER\" if fiction else ''\n",
    "\n",
    "#df_path = 'data/books info/whole books/books_info_jerome_synv9_id_all_categories_without_residual.xlsx' #\n",
    "#df_path = 'data/results/BERTopic/whole books/bert_umap_n_n5_paraphrase-multilingual-MiniLM-L12-v2.xlsx'#distiluse-base-multilingual-cased-v2\n",
    "df_path = 'data/results/top2vec/{folder}/{file}.xlsx'.format(folder = folder, file = file) #  NOV COL MEM VER\n",
    "model_path = 'models/{folder}/top2vec/{file}'.format(folder = folder, file = file) #  NOV COL MEM VER\n",
    "df = pd.read_excel(df_path)"
   ]
  },
  {
   "cell_type": "code",
   "execution_count": 50,
   "metadata": {},
   "outputs": [
    {
     "data": {
      "text/html": [
       "<div>\n",
       "<style scoped>\n",
       "    .dataframe tbody tr th:only-of-type {\n",
       "        vertical-align: middle;\n",
       "    }\n",
       "\n",
       "    .dataframe tbody tr th {\n",
       "        vertical-align: top;\n",
       "    }\n",
       "\n",
       "    .dataframe thead th {\n",
       "        text-align: right;\n",
       "    }\n",
       "</style>\n",
       "<table border=\"1\" class=\"dataframe\">\n",
       "  <thead>\n",
       "    <tr style=\"text-align: right;\">\n",
       "      <th></th>\n",
       "      <th>Unnamed: 0</th>\n",
       "      <th>title</th>\n",
       "      <th>author</th>\n",
       "      <th>publisher</th>\n",
       "      <th>first_published</th>\n",
       "      <th>authsex</th>\n",
       "      <th>translator</th>\n",
       "      <th>srclang</th>\n",
       "      <th>txtype</th>\n",
       "      <th>audience</th>\n",
       "      <th>topic</th>\n",
       "      <th>score</th>\n",
       "    </tr>\n",
       "  </thead>\n",
       "  <tbody>\n",
       "    <tr>\n",
       "      <th>0</th>\n",
       "      <td>0</td>\n",
       "      <td>Planeta lykantů</td>\n",
       "      <td>Garen, Jean-Pierre</td>\n",
       "      <td>Najáda</td>\n",
       "      <td>1992</td>\n",
       "      <td>M: muž</td>\n",
       "      <td>Procházková, Eva</td>\n",
       "      <td>fr: francouzština</td>\n",
       "      <td>NOV: próza</td>\n",
       "      <td>GEN: obecné publikum\"&gt;</td>\n",
       "      <td>0</td>\n",
       "      <td>0.331159</td>\n",
       "    </tr>\n",
       "    <tr>\n",
       "      <th>1</th>\n",
       "      <td>1</td>\n",
       "      <td>Fiesta</td>\n",
       "      <td>Hemingway, Ernest</td>\n",
       "      <td>Svoboda</td>\n",
       "      <td>1966</td>\n",
       "      <td>M: muž</td>\n",
       "      <td>Vrba, František</td>\n",
       "      <td>en: angličtina</td>\n",
       "      <td>NOV: próza</td>\n",
       "      <td>GEN: obecné publikum\"&gt;</td>\n",
       "      <td>0</td>\n",
       "      <td>0.384781</td>\n",
       "    </tr>\n",
       "    <tr>\n",
       "      <th>2</th>\n",
       "      <td>2</td>\n",
       "      <td>Příběh inženýra lidských duší</td>\n",
       "      <td>Škvorecký, Josef</td>\n",
       "      <td>Atlantis</td>\n",
       "      <td>1977</td>\n",
       "      <td>M: muž</td>\n",
       "      <td>X</td>\n",
       "      <td>cs: čeština</td>\n",
       "      <td>NOV: próza</td>\n",
       "      <td>GEN: obecné publikum\"&gt;</td>\n",
       "      <td>1</td>\n",
       "      <td>0.325519</td>\n",
       "    </tr>\n",
       "    <tr>\n",
       "      <th>3</th>\n",
       "      <td>3</td>\n",
       "      <td>Píseň o lítosti</td>\n",
       "      <td>Fischl, Viktor</td>\n",
       "      <td>Atlantis</td>\n",
       "      <td>1982</td>\n",
       "      <td>M: muž</td>\n",
       "      <td>X</td>\n",
       "      <td>cs: čeština</td>\n",
       "      <td>NOV: próza</td>\n",
       "      <td>GEN: obecné publikum\"&gt;</td>\n",
       "      <td>1</td>\n",
       "      <td>0.387661</td>\n",
       "    </tr>\n",
       "    <tr>\n",
       "      <th>4</th>\n",
       "      <td>4</td>\n",
       "      <td>Matka Noc</td>\n",
       "      <td>Vonnegut, Kurt</td>\n",
       "      <td>Volvox Globator</td>\n",
       "      <td>1992</td>\n",
       "      <td>M: muž</td>\n",
       "      <td>Ryba, Zbyněk</td>\n",
       "      <td>en: angličtina</td>\n",
       "      <td>NOV: próza</td>\n",
       "      <td>GEN: obecné publikum\"&gt;</td>\n",
       "      <td>0</td>\n",
       "      <td>0.353534</td>\n",
       "    </tr>\n",
       "  </tbody>\n",
       "</table>\n",
       "</div>"
      ],
      "text/plain": [
       "   Unnamed: 0                          title              author  \\\n",
       "0           0                Planeta lykantů  Garen, Jean-Pierre   \n",
       "1           1                         Fiesta   Hemingway, Ernest   \n",
       "2           2  Příběh inženýra lidských duší    Škvorecký, Josef   \n",
       "3           3                Píseň o lítosti      Fischl, Viktor   \n",
       "4           4                      Matka Noc      Vonnegut, Kurt   \n",
       "\n",
       "         publisher  first_published authsex        translator  \\\n",
       "0           Najáda             1992  M: muž  Procházková, Eva   \n",
       "1          Svoboda             1966  M: muž   Vrba, František   \n",
       "2         Atlantis             1977  M: muž                 X   \n",
       "3         Atlantis             1982  M: muž                 X   \n",
       "4  Volvox Globator             1992  M: muž      Ryba, Zbyněk   \n",
       "\n",
       "             srclang      txtype                audience  topic     score  \n",
       "0  fr: francouzština  NOV: próza  GEN: obecné publikum\">      0  0.331159  \n",
       "1     en: angličtina  NOV: próza  GEN: obecné publikum\">      0  0.384781  \n",
       "2        cs: čeština  NOV: próza  GEN: obecné publikum\">      1  0.325519  \n",
       "3        cs: čeština  NOV: próza  GEN: obecné publikum\">      1  0.387661  \n",
       "4     en: angličtina  NOV: próza  GEN: obecné publikum\">      0  0.353534  "
      ]
     },
     "execution_count": 50,
     "metadata": {},
     "output_type": "execute_result"
    }
   ],
   "source": [
    "df.head()"
   ]
  },
  {
   "cell_type": "code",
   "execution_count": 4,
   "metadata": {},
   "outputs": [
    {
     "data": {
      "image/png": "[encoded data removed]",
      "text/plain": [
       "<Figure size 640x480 with 1 Axes>"
      ]
     },
     "metadata": {},
     "output_type": "display_data"
    }
   ],
   "source": [
    "# data = {'srclang': ['cz', 'en', 'other'], 'values': [309, 264, 143]}\n",
    "# df_hist = pd.DataFrame(data)\n",
    "\n",
    "# plt.bar(df_hist['srclang'], df_hist['values'])\n",
    "# plt.xlabel('Languages')\n",
    "# plt.ylabel('Number of Texts')\n",
    "# plt.title('Histogram of Source Languages')\n",
    "# plt.show()"
   ]
  },
  {
   "cell_type": "code",
   "execution_count": 5,
   "metadata": {},
   "outputs": [
    {
     "data": {
      "text/plain": [
       "srclang\n",
       "cs: čeština          310\n",
       "en: angličtina       264\n",
       "fr: francouzština     39\n",
       "de: němčina           36\n",
       "es: španělština       11\n",
       "ru: ruština           11\n",
       "pl: polština           6\n",
       "it: italština          6\n",
       "sv: švédština          4\n",
       "da: dánština           4\n",
       "ja: japonština         4\n",
       "pt: portugalština      3\n",
       "nl: nizozemština       3\n",
       "M: více jazyků         3\n",
       "sk: slovenština        2\n",
       "he: hebrejština        2\n",
       "no: norština           2\n",
       "fi: finština           2\n",
       "sr: srbština           1\n",
       "hu: maďarština         1\n",
       "is: islandština        1\n",
       "el: řečtina            1\n",
       "ar: arabština          1\n",
       "Name: count, dtype: int64"
      ]
     },
     "execution_count": 5,
     "metadata": {},
     "output_type": "execute_result"
    }
   ],
   "source": [
    "df.srclang.value_counts()"
   ]
  },
  {
   "cell_type": "markdown",
   "metadata": {},
   "source": [
    "### CREATE HEATMAP - CZECH, ENGLISH AND TRANSLATIONS - NUMBER OF BOOKS PER TOPIC"
   ]
  },
  {
   "cell_type": "code",
   "execution_count": 6,
   "metadata": {},
   "outputs": [
    {
     "name": "stdout",
     "output_type": "stream",
     "text": [
      "0 fr: francouzština\n",
      "0\n",
      "0 en: angličtina\n",
      "2\n",
      "0 cs: čeština\n",
      "218\n",
      "0 ru: ruština\n",
      "5\n",
      "0 it: italština\n",
      "0\n",
      "0 de: němčina\n",
      "6\n",
      "0 pt: portugalština\n",
      "0\n",
      "0 sv: švédština\n",
      "0\n",
      "0 da: dánština\n",
      "0\n",
      "0 pl: polština\n",
      "2\n",
      "0 es: španělština\n",
      "0\n",
      "0 hu: maďarština\n",
      "0\n",
      "0 he: hebrejština\n",
      "0\n",
      "0 nl: nizozemština\n",
      "0\n",
      "0 ja: japonština\n",
      "0\n",
      "0 no: norština\n",
      "1\n",
      "0 M: více jazyků\n",
      "1\n",
      "0 fi: finština\n",
      "0\n",
      "0 el: řečtina\n",
      "1\n",
      "0 is: islandština\n",
      "0\n",
      "0 sk: slovenština\n",
      "0\n",
      "0 sr: srbština\n",
      "0\n",
      "0 ar: arabština\n",
      "0\n",
      "1 fr: francouzština\n",
      "4\n",
      "1 en: angličtina\n",
      "139\n",
      "1 cs: čeština\n",
      "18\n",
      "1 ru: ruština\n",
      "1\n",
      "1 it: italština\n",
      "0\n",
      "1 de: němčina\n",
      "3\n",
      "1 pt: portugalština\n",
      "0\n",
      "1 sv: švédština\n",
      "1\n",
      "1 da: dánština\n",
      "1\n",
      "1 pl: polština\n",
      "0\n",
      "1 es: španělština\n",
      "0\n",
      "1 hu: maďarština\n",
      "0\n",
      "1 he: hebrejština\n",
      "0\n",
      "1 nl: nizozemština\n",
      "0\n",
      "1 ja: japonština\n",
      "2\n",
      "1 no: norština\n",
      "1\n",
      "1 M: více jazyků\n",
      "0\n",
      "1 fi: finština\n",
      "1\n",
      "1 el: řečtina\n",
      "0\n",
      "1 is: islandština\n",
      "0\n",
      "1 sk: slovenština\n",
      "1\n",
      "1 sr: srbština\n",
      "1\n",
      "1 ar: arabština\n",
      "0\n",
      "2 fr: francouzština\n",
      "6\n",
      "2 en: angličtina\n",
      "43\n",
      "2 cs: čeština\n",
      "52\n",
      "2 ru: ruština\n",
      "2\n",
      "2 it: italština\n",
      "0\n",
      "2 de: němčina\n",
      "9\n",
      "2 pt: portugalština\n",
      "0\n",
      "2 sv: švédština\n",
      "1\n",
      "2 da: dánština\n",
      "2\n",
      "2 pl: polština\n",
      "1\n",
      "2 es: španělština\n",
      "3\n",
      "2 hu: maďarština\n",
      "1\n",
      "2 he: hebrejština\n",
      "1\n",
      "2 nl: nizozemština\n",
      "0\n",
      "2 ja: japonština\n",
      "2\n",
      "2 no: norština\n",
      "0\n",
      "2 M: více jazyků\n",
      "2\n",
      "2 fi: finština\n",
      "1\n",
      "2 el: řečtina\n",
      "0\n",
      "2 is: islandština\n",
      "0\n",
      "2 sk: slovenština\n",
      "1\n",
      "2 sr: srbština\n",
      "0\n",
      "2 ar: arabština\n",
      "1\n",
      "3 fr: francouzština\n",
      "29\n",
      "3 en: angličtina\n",
      "9\n",
      "3 cs: čeština\n",
      "0\n",
      "3 ru: ruština\n",
      "2\n",
      "3 it: italština\n",
      "6\n",
      "3 de: němčina\n",
      "3\n",
      "3 pt: portugalština\n",
      "3\n",
      "3 sv: švédština\n",
      "2\n",
      "3 da: dánština\n",
      "0\n",
      "3 pl: polština\n",
      "2\n",
      "3 es: španělština\n",
      "8\n",
      "3 hu: maďarština\n",
      "0\n",
      "3 he: hebrejština\n",
      "1\n",
      "3 nl: nizozemština\n",
      "1\n",
      "3 ja: japonština\n",
      "0\n",
      "3 no: norština\n",
      "0\n",
      "3 M: více jazyků\n",
      "0\n",
      "3 fi: finština\n",
      "0\n",
      "3 el: řečtina\n",
      "0\n",
      "3 is: islandština\n",
      "0\n",
      "3 sk: slovenština\n",
      "0\n",
      "3 sr: srbština\n",
      "0\n",
      "3 ar: arabština\n",
      "0\n",
      "4 fr: francouzština\n",
      "0\n",
      "4 en: angličtina\n",
      "20\n",
      "4 cs: čeština\n",
      "18\n",
      "4 ru: ruština\n",
      "1\n",
      "4 it: italština\n",
      "0\n",
      "4 de: němčina\n",
      "15\n",
      "4 pt: portugalština\n",
      "0\n",
      "4 sv: švédština\n",
      "0\n",
      "4 da: dánština\n",
      "1\n",
      "4 pl: polština\n",
      "1\n",
      "4 es: španělština\n",
      "0\n",
      "4 hu: maďarština\n",
      "0\n",
      "4 he: hebrejština\n",
      "0\n",
      "4 nl: nizozemština\n",
      "2\n",
      "4 ja: japonština\n",
      "0\n",
      "4 no: norština\n",
      "0\n",
      "4 M: více jazyků\n",
      "0\n",
      "4 fi: finština\n",
      "0\n",
      "4 el: řečtina\n",
      "0\n",
      "4 is: islandština\n",
      "1\n",
      "4 sk: slovenština\n",
      "0\n",
      "4 sr: srbština\n",
      "0\n",
      "4 ar: arabština\n",
      "0\n",
      "5 fr: francouzština\n",
      "0\n",
      "5 en: angličtina\n",
      "51\n",
      "5 cs: čeština\n",
      "4\n",
      "5 ru: ruština\n",
      "0\n",
      "5 it: italština\n",
      "0\n",
      "5 de: němčina\n",
      "0\n",
      "5 pt: portugalština\n",
      "0\n",
      "5 sv: švédština\n",
      "0\n",
      "5 da: dánština\n",
      "0\n",
      "5 pl: polština\n",
      "0\n",
      "5 es: španělština\n",
      "0\n",
      "5 hu: maďarština\n",
      "0\n",
      "5 he: hebrejština\n",
      "0\n",
      "5 nl: nizozemština\n",
      "0\n",
      "5 ja: japonština\n",
      "0\n",
      "5 no: norština\n",
      "0\n",
      "5 M: více jazyků\n",
      "0\n",
      "5 fi: finština\n",
      "0\n",
      "5 el: řečtina\n",
      "0\n",
      "5 is: islandština\n",
      "0\n",
      "5 sk: slovenština\n",
      "0\n",
      "5 sr: srbština\n",
      "0\n",
      "5 ar: arabština\n",
      "0\n"
     ]
    }
   ],
   "source": [
    "languages = df.srclang.unique()\n",
    "topics = np.unique(df.topic.unique())   \n",
    "heat_mat_1 = np.zeros(shape=(len(topics), 3))\n",
    "for i, topic in enumerate(topics):\n",
    "    for j, language in enumerate(languages):\n",
    "        print(str(topic) + ' ' + str(language) )\n",
    "        print(len(df[(df.topic == topic) & (df.srclang == language)].index)   )\n",
    "        if language in ['cs: čeština']: #, 'en: angličtina'\n",
    "            heat_mat_1[i][0] = len(df[(df.topic == topic) & (df.srclang == language)].index) \n",
    "        elif language in ['en: angličtina']: #, \n",
    "            heat_mat_1[i][1] = len(df[(df.topic == topic) & (df.srclang == language)].index)   \n",
    "        else:\n",
    "            heat_mat_1[i][2] += len(df[(df.topic == topic) & (df.srclang == language)].index)     \n",
    "    heat_mat_1[i][0] = heat_mat_1[i][0] /  len(df[(df.topic == topic)])  \n",
    "    heat_mat_1[i][1] = heat_mat_1[i][1] /  len(df[(df.topic == topic)])\n",
    "    heat_mat_1[i][2] = heat_mat_1[i][2] /  len(df[(df.topic == topic)])\n",
    "            "
   ]
  },
  {
   "cell_type": "markdown",
   "metadata": {},
   "source": [
    "#### PLOT HEATMAP"
   ]
  },
  {
   "cell_type": "code",
   "execution_count": 8,
   "metadata": {},
   "outputs": [
    {
     "data": {
      "image/png": "[encoded data removed]",
      "text/plain": [
       "<Figure size 1500x1200 with 2 Axes>"
      ]
     },
     "metadata": {},
     "output_type": "display_data"
    }
   ],
   "source": [
    "plt.figure(figsize=(15, 12))\n",
    "\n",
    "\n",
    "fig = plt.imshow(heat_mat_1, cmap='magma_r', interpolation='nearest')\n",
    "plt.xticks(range(3), ['cz','en', 'other'])\n",
    "num_topics = len(df.topic.unique())\n",
    "y_ticks = ['Topic ' + str(n) for n in range(num_topics)]\n",
    "plt.yticks(range(num_topics), y_ticks)\n",
    "plt.colorbar(fig)\n",
    "plt.show()"
   ]
  },
  {
   "cell_type": "markdown",
   "metadata": {},
   "source": [
    "### CREATE HEATMAP - CZECH, ENGLISH AND TRANSLATIONS - SCORE OF BOOKS PER TOPIC"
   ]
  },
  {
   "cell_type": "code",
   "execution_count": 243,
   "metadata": {},
   "outputs": [],
   "source": [
    "languages = df.srclang.unique()\n",
    "topics = df.topic.unique()    \n",
    "heat_mat_2 = np.zeros(shape=(len(topics), 3))\n",
    "for i, topic in enumerate(topics):\n",
    "    for j, language in enumerate(languages):\n",
    "        if language in ['cs: čeština']: \n",
    "            heat_mat_2[i][0] = sum(df[(df.topic == topic) & (df.srclang == language)].score)   \n",
    "        elif language in ['en: angličtina']:\n",
    "            heat_mat_2[i][1] = sum(df[(df.topic == topic) & (df.srclang == language)].score)      \n",
    "        else:\n",
    "            heat_mat_2[i][2] += sum(df[(df.topic == topic) & (df.srclang == language)].score)      "
   ]
  },
  {
   "cell_type": "markdown",
   "metadata": {},
   "source": [
    "#### PLOT HEATMAP"
   ]
  },
  {
   "cell_type": "code",
   "execution_count": 244,
   "metadata": {},
   "outputs": [
    {
     "data": {
      "image/png": "[encoded data removed]",
      "text/plain": [
       "<Figure size 640x480 with 2 Axes>"
      ]
     },
     "metadata": {},
     "output_type": "display_data"
    }
   ],
   "source": [
    "fig = plt.imshow(heat_mat_2, cmap='viridis', interpolation='nearest')\n",
    "plt.xticks(range(3), ['cz','en', 'other'])\n",
    "y_ticks = ['Topic ' + str(n) for n in range(num_topics)]\n",
    "plt.yticks(range(num_topics), y_ticks)\n",
    "plt.colorbar(fig)\n",
    "plt.show()"
   ]
  },
  {
   "cell_type": "markdown",
   "metadata": {},
   "source": [
    "### CREATE HEATMAP - CZECH AND TRANSLATIONS - SCORE OF BOOKS PER TOPIC"
   ]
  },
  {
   "cell_type": "code",
   "execution_count": 245,
   "metadata": {},
   "outputs": [],
   "source": [
    "languages = df.srclang.unique()\n",
    "topics = df.topic.unique()    \n",
    "heat_mat_3 = np.zeros(shape=(len(topics), 2))\n",
    "for i, topic in enumerate(topics):\n",
    "    for j, language in enumerate(languages):\n",
    "        if language in ['cs: čeština']: \n",
    "            heat_mat_3[i][1] = sum(df[(df.topic == topic) & (df.srclang == language)].score)   \n",
    "        else:\n",
    "            heat_mat_3[i][0] += sum(df[(df.topic == topic) & (df.srclang == language)].score)    \n",
    "    heat_mat_3[i][1] = heat_mat_3[i][1] /  sum(df[(df.topic == topic)].score)\n",
    "    heat_mat_3[i][0] = heat_mat_3[i][0] /  sum(df[(df.topic == topic)].score)       "
   ]
  },
  {
   "cell_type": "markdown",
   "metadata": {},
   "source": [
    "#### PLOT HEATMAP"
   ]
  },
  {
   "cell_type": "code",
   "execution_count": 249,
   "metadata": {},
   "outputs": [
    {
     "data": {
      "image/png": "[encoded data removed]",
      "text/plain": [
       "<Figure size 1500x1200 with 2 Axes>"
      ]
     },
     "metadata": {},
     "output_type": "display_data"
    }
   ],
   "source": [
    "plt.figure(figsize=(15, 12))\n",
    "\n",
    "fig = plt.imshow(heat_mat_3, cmap='viridis', interpolation='nearest')\n",
    "plt.xticks(range(2), ['trans', 'czech'])\n",
    "y_ticks = ['Topic ' + str(n) for n in range(num_topics)]\n",
    "plt.yticks(range(num_topics), y_ticks)\n",
    "plt.colorbar(fig)\n",
    "\n",
    "plt.show()"
   ]
  },
  {
   "cell_type": "markdown",
   "metadata": {},
   "source": [
    "### CREATE HEATMAP - CZECH AND TRANSLATIONS - NUMBER OF BOOKS PER TOPIC"
   ]
  },
  {
   "cell_type": "code",
   "execution_count": 9,
   "metadata": {},
   "outputs": [],
   "source": [
    "languages = df.srclang.unique()\n",
    "topics = np.unique(df.topic.unique()) \n",
    "heat_mat_4 = np.zeros(shape=(len(topics), 2))\n",
    "for i, topic in enumerate(topics):\n",
    "    for j, language in enumerate(languages):\n",
    "        if language in ['cs: čeština']: \n",
    "            heat_mat_4[i][1] = len(df[(df.topic == topic) & (df.srclang == language)])   \n",
    "        else:\n",
    "            heat_mat_4[i][0] += len(df[(df.topic == topic) & (df.srclang == language)])    \n",
    "    heat_mat_4[i][1] = heat_mat_4[i][1] /  len(df[(df.topic == topic)])\n",
    "    heat_mat_4[i][0] = heat_mat_4[i][0] /  len(df[(df.topic == topic)])  "
   ]
  },
  {
   "cell_type": "markdown",
   "metadata": {},
   "source": [
    "#### PLOT HEATMAP"
   ]
  },
  {
   "cell_type": "code",
   "execution_count": 11,
   "metadata": {},
   "outputs": [
    {
     "data": {
      "image/png": "[encoded data removed]",
      "text/plain": [
       "<Figure size 1500x1200 with 2 Axes>"
      ]
     },
     "metadata": {},
     "output_type": "display_data"
    }
   ],
   "source": [
    "plt.figure(figsize=(15, 12))\n",
    "\n",
    "fig = plt.imshow(heat_mat_4, cmap='magma_r', interpolation='nearest')\n",
    "plt.xticks(range(2), ['Translations', 'Czech'])\n",
    "num_topics = len(df.topic.unique())\n",
    "y_ticks = ['Topic ' + str(n) for n in range(num_topics)]\n",
    "plt.yticks(range(num_topics), y_ticks)\n",
    "plt.colorbar(fig)\n",
    "\n",
    "plt.show()"
   ]
  },
  {
   "cell_type": "code",
   "execution_count": 175,
   "metadata": {},
   "outputs": [
    {
     "name": "stdout",
     "output_type": "stream",
     "text": [
      "0 COL: kratší próza\n",
      "33\n",
      "0 MEM: memoáry, autobiografie\n",
      "9\n",
      "0 NOV: próza\n",
      "169\n",
      "0 VER: poezie\n",
      "0\n",
      "1 COL: kratší próza\n",
      "58\n",
      "1 MEM: memoáry, autobiografie\n",
      "18\n",
      "1 NOV: próza\n",
      "107\n",
      "1 VER: poezie\n",
      "1\n",
      "2 COL: kratší próza\n",
      "15\n",
      "2 MEM: memoáry, autobiografie\n",
      "64\n",
      "2 NOV: próza\n",
      "22\n",
      "2 VER: poezie\n",
      "0\n",
      "3 COL: kratší próza\n",
      "33\n",
      "3 MEM: memoáry, autobiografie\n",
      "10\n",
      "3 NOV: próza\n",
      "56\n",
      "3 VER: poezie\n",
      "0\n",
      "4 COL: kratší próza\n",
      "15\n",
      "4 MEM: memoáry, autobiografie\n",
      "3\n",
      "4 NOV: próza\n",
      "53\n",
      "4 VER: poezie\n",
      "0\n",
      "5 COL: kratší próza\n",
      "19\n",
      "5 MEM: memoáry, autobiografie\n",
      "8\n",
      "5 NOV: próza\n",
      "24\n",
      "5 VER: poezie\n",
      "0\n"
     ]
    }
   ],
   "source": [
    "txtypes = np.unique(df.txtype.unique())\n",
    "topics = np.unique(df.topic.unique()) \n",
    "heat_mat_5 = np.zeros(shape=(len(topics), len(txtypes)))\n",
    "for i, topic in enumerate(topics):\n",
    "    for j, txtype in enumerate(txtypes):\n",
    "        print(str(topic) + ' ' + str(txtype) )\n",
    "        print(len(df[(df.topic == topic) & (df.txtype == txtype)].index)   )\n",
    "        heat_mat_5[i][j] = len(df[(df.topic == topic) & (df.txtype == txtype)]) /  len(df[(df.topic == topic)])   "
   ]
  },
  {
   "cell_type": "code",
   "execution_count": 176,
   "metadata": {},
   "outputs": [
    {
     "data": {
      "image/png": "[encoded data removed]",
      "text/plain": [
       "<Figure size 1500x1200 with 2 Axes>"
      ]
     },
     "metadata": {},
     "output_type": "display_data"
    }
   ],
   "source": [
    "plt.figure(figsize=(15, 12))\n",
    "\n",
    "fig = plt.imshow(heat_mat_5.T, cmap='viridis', interpolation='nearest')\n",
    "num_topics = len(df.topic.unique())\n",
    "x_ticks = [str(n) for n in range(num_topics)]\n",
    "plt.xticks(range(num_topics), x_ticks)\n",
    "num_txtypes = len(df.txtype.unique())\n",
    "y_ticks = [n[:3] for n in txtypes]\n",
    "plt.yticks(range(num_txtypes), y_ticks)\n",
    "plt.colorbar(fig)\n",
    "\n",
    "plt.show()"
   ]
  },
  {
   "cell_type": "markdown",
   "metadata": {},
   "source": [
    "### TOP2VEC VISUALIZATION"
   ]
  },
  {
   "cell_type": "code",
   "execution_count": 5,
   "metadata": {},
   "outputs": [],
   "source": [
    "import re \n",
    "\n",
    "## Load the model\n",
    "top2vec_model = Top2Vec.load(model_path)\n",
    "\n",
    "# Define the pattern\n",
    "pattern = r'umap_n_n(\\d+)'\n",
    "\n",
    "# Search for the pattern in the string\n",
    "#n_neighbors = re.search(pattern, model_path).group(1)\n",
    "\n",
    "n_neighbors = 15\n",
    "umap_args_model = {\n",
    "\"n_neighbors\": int(n_neighbors),\n",
    "\"n_components\": 2,\n",
    "\"metric\": \"cosine\",\n",
    "'random_state': 42\n",
    "}"
   ]
  },
  {
   "cell_type": "code",
   "execution_count": 57,
   "metadata": {},
   "outputs": [
    {
     "name": "stdout",
     "output_type": "stream",
     "text": [
      "[1 1 0 2 5 0 1 0 0 1 0 2 0 0 3 0 1 1 2 5 1 1 1 1 1 1 1 1 1 0 0 0 0 0 5 2 3\n",
      " 2 4 1 0 0 0 5 0 0 1 3 1 0 1 1 0 0 0 1 2 0 1 2 1 1 2 4 2 4 5 0 3 0 1 1 2 1\n",
      " 1 1 0 1 1 2 0 3 1 2 1 4 3 3 1 1 2 4 5 1 2 2 2 0 1 4 2 1 2 4 1 3 1 1 1 2 1\n",
      " 0 3 1 0 4 5 5 2 0 1 2 0 2 3 4 1 2 1 3 1 0 2 3 5 3 5 3 5 0 2 2 5 1 4 4 4 4\n",
      " 2 0 0 5 0 5 2 1 2 1 1 1 3 2 1 0 2 0 0 3 1 1 1 1 2 3 0 3 0 5 0 4 1 3 1 1 5\n",
      " 0 0 0 0 0 0 1 0 0 1 0 3 0 2 1 5 3 1 4 5 2 0 2 1 1 3 0 1 1 2 0 0 2 4 1 4 0\n",
      " 1 1 0 0 2 3 4 1 4 1 4 0 1 1 1 0 1 2 0 5 4 0 2 1 3 0 1 2 4 1 0 0 0 1 1 1 0\n",
      " 1 2 5 3 1 0 3 3 4 5 5 5 3 1 5 1 2 1 5 1 1 1 1 2 1 1 1 1 3 0 1 0 1 2 4 1 0\n",
      " 1 1 4 1 1 1 1 5 1 1 2 1 1 2 3 4 1 2 0 1 1 1 0 0 4 0 4 1 0 5 2 0 3 5 4 4 2\n",
      " 0 4 1 3 1 3 4 1 1 1 4 2 2 4 1 2 5 3 0 0 1 5 1 5 1 3 2 0 1 4 2 4 1 4 0 5 0\n",
      " 4 4 2 2 0 3 4 0 2 1 0 2 1 2 2 0 1 2 0 1 4 3 5 2 2 1 1 1 1 1 0 5 3 4 3 1 2\n",
      " 1 1 4 4 1 4 3 0 1 2 2 2 1 2 1 4 3 3 3 1 2 4 1 4 3 2 5 1 0 0 1 1 1 2 3 0 1\n",
      " 0 0 0 0 0 0 0 0 0 4 1 0 0 5 3 2 0 1 0 5 3 0 0 5 2 5 3 1 2 0 3 2 2 3 2 0 2\n",
      " 1 0 3 2 2 2 2 2 2 3 2 1 2 0 2 0 0 3 0 2 0 2 0 0 0 2 0 2 2 4 0 0 2 0 0 2 3\n",
      " 1 0 0 0 2 3 2 2 0 1 0 4 4 2 0 5 4 0 5 0 5 2 3 3 4 0 0 4 3 1 4 0 2 0 1 0 0\n",
      " 0 2 0 0 1 0 2 2 5 0 2 0 2 2 5 0 0 1 2 1 2 0 2 0 5 1 0 1 1 2 2 2 1 2 1 1 5\n",
      " 2 0 0 0 5 1 1 5 2 1 4 0 2 0 3 0 0 0 0 0 0 0 0 3 0 3 0 0 0 5 0 0 0 0 0 0 2\n",
      " 0 0 0 0 0 0 2 3 0 4 5 0 0 2 0 2 0 0 0 3 0 0 0 0 0 0 1 0 5 0 1 0 0 0 0 0 0\n",
      " 0 0 2 0 0 3 0 0 1 0 2 0 0 3 0 5 5 0 0 0 5 5 3 0 0 2 0 4 0 0 0 0 0 2 0 0 0\n",
      " 0 0 0 0 2 0 2 0 0 0 2 0 0 0]\n",
      "[1 1 0 0 1 0 1 0 0 1 0 1 0 0 0 0 1 1 0 1 1 1 1 1 1 1 1 1 1 0 0 0 0 0 1 0 0\n",
      " 0 1 1 0 0 0 1 0 0 1 1 1 0 1 1 0 0 0 1 0 0 1 0 1 1 0 1 1 0 0 0 0 0 1 1 0 1\n",
      " 1 1 0 1 1 1 0 0 1 0 1 1 1 0 1 1 0 1 1 1 0 0 0 0 1 1 1 1 1 1 1 1 1 1 1 0 1\n",
      " 0 0 1 0 1 1 1 0 0 1 0 0 0 0 1 1 0 0 0 1 0 0 1 1 0 1 1 1 0 0 0 1 1 1 1 1 1\n",
      " 0 0 0 1 0 1 0 1 0 1 1 1 0 0 1 0 1 1 0 0 1 1 1 1 0 0 0 0 0 1 0 1 1 0 1 1 1\n",
      " 0 0 0 0 0 0 1 0 0 1 0 0 0 0 1 1 0 1 1 1 0 0 0 1 1 0 0 1 1 1 0 0 1 1 1 1 0\n",
      " 1 1 0 0 1 0 1 1 1 1 0 0 1 0 1 0 1 0 0 1 1 0 0 1 0 0 1 1 1 1 0 0 0 1 1 1 0\n",
      " 1 0 1 0 1 0 0 0 0 1 1 1 1 1 1 1 0 1 1 1 1 1 1 0 1 1 1 1 0 0 1 0 1 0 1 1 0\n",
      " 1 1 0 1 1 1 1 1 1 1 1 1 1 0 0 1 1 0 0 1 1 1 0 0 1 0 1 1 0 0 0 1 1 1 1 1 0\n",
      " 0 1 1 0 1 0 1 1 1 1 1 0 0 1 1 1 1 1 0 0 1 1 1 1 1 0 0 0 1 1 0 1 1 1 0 1 1\n",
      " 1 1 0 0 0 0 1 0 0 1 0 0 1 0 0 0 1 1 0 1 1 0 1 1 0 1 1 1 1 1 0 1 1 1 0 1 0\n",
      " 1 1 1 1 1 0 1 1 1 1 1 1 1 0 1 0 1 1 0 1 0 1 1 1 0 0 1 1 0 0 1 1 1 0 0 0 1\n",
      " 1 0 0 0 0 0 0 0 0 1 1 0 0 1 0 0 0 1 0 1 0 0 0 1 0 1 0 1 0 0 0 0 0 1 0 0 0\n",
      " 1 0 0 0 0 0 0 0 0 0 0 1 0 0 1 0 0 0 0 0 0 0 0 0 0 0 0 0 0 0 1 0 0 0 0 0 0\n",
      " 1 0 1 1 0 0 0 0 0 1 0 0 1 0 0 1 1 1 1 0 1 0 0 0 0 0 1 0 0 1 1 0 0 0 1 0 0\n",
      " 1 1 0 0 1 0 0 0 1 0 0 1 0 0 1 0 0 1 1 1 1 0 0 0 1 1 1 1 1 0 0 0 1 0 1 1 1\n",
      " 1 0 0 0 1 1 1 1 0 1 1 1 0 0 0 0 0 0 0 0 0 0 0 0 0 0 0 0 0 1 0 0 0 0 0 0 0\n",
      " 0 0 0 0 0 0 0 0 0 1 1 0 0 0 0 0 0 0 0 0 0 0 0 0 0 0 1 0 1 1 0 0 0 0 0 0 0\n",
      " 0 0 0 0 1 0 0 0 1 0 0 0 0 0 0 1 1 0 0 0 1 1 0 0 0 0 0 1 0 0 0 0 0 0 0 0 0\n",
      " 0 0 0 0 0 0 0 0 0 0 0 1 0 0]\n"
     ]
    }
   ],
   "source": [
    "print(top2vec_model.doc_top)\n",
    "\n",
    "ret = top2vec_model.hierarchical_topic_reduction(num_topics=2)\n",
    "reduced = True\n",
    "\n",
    "# Get topic nums and sizes\n",
    "topic_sizes, topic_nums = top2vec_model.get_topic_sizes(reduced= reduced)\n",
    "\n",
    "# Create document_topic list\n",
    "doc_top_reduced = [0] * (len(df))\n",
    "\n",
    "# Iter over topics\n",
    "for topic_num in topic_nums: \n",
    "\n",
    "    # Get documents that are part of the topic\n",
    "    documents, document_scores, document_ids = top2vec_model.search_documents_by_topic(topic_num=topic_num, num_docs=topic_sizes[topic_num], reduced = reduced)\n",
    "\n",
    "    # Iter over documents\n",
    "    for document_id, document_score in zip(document_ids, document_scores):\n",
    "\n",
    "        # add txtype of the document into doc_top_reduced list\n",
    "        #doc_top_reduced[document_id] = df[df['Unnamed: 0'] == document_id]['txtype'].values[0]\n",
    "        doc_top_reduced[document_id] = topic_num\n",
    "doc_top_reduced = np.array(doc_top_reduced) \n",
    "print(doc_top_reduced)   \n"
   ]
  },
  {
   "cell_type": "code",
   "execution_count": 6,
   "metadata": {},
   "outputs": [
    {
     "name": "stdout",
     "output_type": "stream",
     "text": [
      "[1 0 2 3 0 3 0 3 3 0 3 1 3 3 1 3 0 0 1 0 2 0 0 0 0 0 0 0 0 3 2 2 2 3 0 2 1\n",
      " 1 0 0 3 2 3 0 3 2 0 1 0 3 0 0 1 2 3 0 1 3 0 1 0 3 1 0 1 1 0 3 1 2 0 0 1 0\n",
      " 0 0 2 0 0 1 3 1 0 1 0 2 1 1 0 0 1 2 0 0 3 1 1 2 0 2 0 0 0 0 0 0 0 0 0 1 0\n",
      " 1 1 0 2 2 0 2 1 3 0 1 2 1 3 2 0 1 0 1 0 3 2 0 0 1 0 0 0 2 3 1 2 0 2 2 0 2\n",
      " 1 3 3 0 3 0 1 0 3 0 0 0 1 1 0 3 0 2 3 1 0 0 0 0 1 1 2 1 2 2 2 2 0 1 0 0 0\n",
      " 2 2 3 3 3 3 2 2 3 0 2 1 2 1 0 0 1 0 2 0 1 3 1 0 0 1 3 0 0 1 3 3 0 2 0 2 3\n",
      " 0 0 3 2 2 1 0 0 0 0 1 3 0 0 0 2 0 1 3 0 2 2 1 0 1 3 0 0 2 0 2 2 3 0 0 0 3\n",
      " 0 1 0 1 0 2 1 1 2 0 0 0 0 0 0 0 1 0 0 0 0 0 0 1 0 0 0 0 1 2 0 2 0 1 0 0 2\n",
      " 0 0 2 1 0 0 0 2 0 0 0 0 0 1 1 0 0 1 2 0 0 0 2 3 2 3 2 0 2 2 3 0 0 0 0 2 1\n",
      " 2 0 0 1 0 1 2 0 0 0 2 2 1 2 0 0 0 2 3 2 0 0 0 0 0 1 1 2 2 2 1 2 0 0 3 0 0\n",
      " 2 2 1 0 3 1 2 2 1 0 3 1 0 1 1 2 0 0 2 0 1 1 0 0 1 0 0 0 0 2 3 0 1 2 1 0 1\n",
      " 0 0 2 0 2 2 0 2 0 0 1 1 0 1 0 2 0 1 1 0 1 2 0 2 3 1 0 0 3 3 0 0 0 1 1 2 0\n",
      " 2 3 2 2 2 3 3 3 3 0 0 3 3 0 1 0 2 0 3 0 1 2 2 0 1 2 1 2 1 3 1 1 1 0 1 3 1\n",
      " 0 2 1 1 1 1 3 1 1 1 3 0 1 3 1 2 2 1 2 1 0 1 2 3 3 1 3 1 1 2 2 2 1 3 3 1 1\n",
      " 0 3 3 2 3 1 3 1 2 0 2 2 2 1 3 0 2 2 1 1 2 1 0 1 2 2 2 0 1 0 0 2 2 3 0 2 3\n",
      " 2 0 2 3 0 2 1 1 0 2 1 2 0 1 0 2 3 0 0 0 1 2 1 3 0 0 2 0 2 1 1 1 0 1 0 2 0\n",
      " 0 2 2 2 0 0 0 0 1 0 0 0 1]\n",
      "['Trans' 'Trans' 'Czech' 'Czech' 'Trans' 'Czech' 'Trans' 'Czech' 'Czech'\n",
      " 'Trans' 'Czech' 'Trans' 'Trans' 'Czech' 'Trans' 'Czech' 'Trans' 'Trans'\n",
      " 'Trans' 'Trans' 'Czech' 'Trans' 'Trans' 'Trans' 'Trans' 'Trans' 'Trans'\n",
      " 'Trans' 'Trans' 'Czech' 'Czech' 'Czech' 'Czech' 'Czech' 'Trans' 'Czech'\n",
      " 'Trans' 'Czech' 'Trans' 'Trans' 'Czech' 'Czech' 'Czech' 'Trans' 'Czech'\n",
      " 'Czech' 'Trans' 'Trans' 'Trans' 'Czech' 'Trans' 'Trans' 'Czech' 'Czech'\n",
      " 'Czech' 'Trans' 'Trans' 'Czech' 'Trans' 'Trans' 'Trans' 'Czech' 'Trans'\n",
      " 'Trans' 'Trans' 'Trans' 'Trans' 'Czech' 'Trans' 'Czech' 'Trans' 'Trans'\n",
      " 'Trans' 'Trans' 'Trans' 'Trans' 'Czech' 'Trans' 'Trans' 'Trans' 'Czech'\n",
      " 'Trans' 'Trans' 'Trans' 'Trans' 'Trans' 'Trans' 'Trans' 'Trans' 'Trans'\n",
      " 'Trans' 'Trans' 'Trans' 'Trans' 'Czech' 'Trans' 'Trans' 'Czech' 'Trans'\n",
      " 'Trans' 'Trans' 'Trans' 'Trans' 'Trans' 'Trans' 'Trans' 'Trans' 'Trans'\n",
      " 'Trans' 'Trans' 'Trans' 'Czech' 'Trans' 'Trans' 'Czech' 'Trans' 'Trans'\n",
      " 'Trans' 'Trans' 'Czech' 'Trans' 'Czech' 'Czech' 'Czech' 'Trans' 'Trans'\n",
      " 'Trans' 'Trans' 'Czech' 'Trans' 'Trans' 'Czech' 'Czech' 'Trans' 'Trans'\n",
      " 'Trans' 'Trans' 'Trans' 'Trans' 'Czech' 'Trans' 'Trans' 'Trans' 'Trans'\n",
      " 'Trans' 'Trans' 'Trans' 'Trans' 'Czech' 'Czech' 'Czech' 'Trans' 'Czech'\n",
      " 'Trans' 'Trans' 'Trans' 'Trans' 'Trans' 'Trans' 'Trans' 'Trans' 'Trans'\n",
      " 'Trans' 'Trans' 'Trans' 'Czech' 'Czech' 'Trans' 'Trans' 'Trans' 'Trans'\n",
      " 'Trans' 'Czech' 'Trans' 'Czech' 'Trans' 'Czech' 'Trans' 'Czech' 'Trans'\n",
      " 'Trans' 'Trans' 'Trans' 'Czech' 'Trans' 'Trans' 'Czech' 'Czech' 'Trans'\n",
      " 'Czech' 'Czech' 'Czech' 'Czech' 'Czech' 'Trans' 'Czech' 'Trans' 'Czech'\n",
      " 'Trans' 'Trans' 'Trans' 'Trans' 'Trans' 'Trans' 'Trans' 'Trans' 'Czech'\n",
      " 'Trans' 'Trans' 'Trans' 'Trans' 'Czech' 'Trans' 'Trans' 'Trans' 'Czech'\n",
      " 'Czech' 'Trans' 'Czech' 'Trans' 'Trans' 'Czech' 'Trans' 'Trans' 'Czech'\n",
      " 'Czech' 'Trans' 'Trans' 'Trans' 'Trans' 'Trans' 'Trans' 'Trans' 'Czech'\n",
      " 'Trans' 'Czech' 'Trans' 'Czech' 'Trans' 'Czech' 'Czech' 'Trans' 'Czech'\n",
      " 'Czech' 'Trans' 'Trans' 'Trans' 'Czech' 'Trans' 'Trans' 'Czech' 'Trans'\n",
      " 'Czech' 'Czech' 'Czech' 'Trans' 'Trans' 'Trans' 'Czech' 'Trans' 'Trans'\n",
      " 'Trans' 'Trans' 'Trans' 'Czech' 'Trans' 'Trans' 'Trans' 'Trans' 'Trans'\n",
      " 'Trans' 'Trans' 'Trans' 'Trans' 'Trans' 'Trans' 'Trans' 'Trans' 'Trans'\n",
      " 'Trans' 'Trans' 'Trans' 'Trans' 'Trans' 'Trans' 'Trans' 'Trans' 'Trans'\n",
      " 'Czech' 'Trans' 'Trans' 'Czech' 'Czech' 'Trans' 'Trans' 'Czech' 'Trans'\n",
      " 'Trans' 'Czech' 'Trans' 'Trans' 'Trans' 'Trans' 'Trans' 'Trans' 'Trans'\n",
      " 'Trans' 'Trans' 'Trans' 'Czech' 'Trans' 'Trans' 'Trans' 'Czech' 'Czech'\n",
      " 'Trans' 'Trans' 'Trans' 'Czech' 'Czech' 'Trans' 'Trans' 'Trans' 'Trans'\n",
      " 'Czech' 'Czech' 'Trans' 'Czech' 'Trans' 'Trans' 'Trans' 'Trans' 'Trans'\n",
      " 'Czech' 'Trans' 'Trans' 'Trans' 'Trans' 'Trans' 'Trans' 'Trans' 'Trans'\n",
      " 'Trans' 'Trans' 'Czech' 'Trans' 'Trans' 'Trans' 'Trans' 'Trans' 'Trans'\n",
      " 'Czech' 'Czech' 'Trans' 'Trans' 'Trans' 'Trans' 'Trans' 'Trans' 'Czech'\n",
      " 'Czech' 'Czech' 'Czech' 'Trans' 'Czech' 'Trans' 'Trans' 'Czech' 'Trans'\n",
      " 'Trans' 'Trans' 'Czech' 'Czech' 'Trans' 'Czech' 'Trans' 'Czech' 'Trans'\n",
      " 'Czech' 'Trans' 'Czech' 'Trans' 'Trans' 'Czech' 'Czech' 'Czech' 'Trans'\n",
      " 'Trans' 'Czech' 'Trans' 'Czech' 'Trans' 'Trans' 'Trans' 'Czech' 'Trans'\n",
      " 'Trans' 'Trans' 'Trans' 'Czech' 'Czech' 'Trans' 'Trans' 'Trans' 'Trans'\n",
      " 'Trans' 'Trans' 'Trans' 'Trans' 'Trans' 'Trans' 'Czech' 'Czech' 'Trans'\n",
      " 'Czech' 'Trans' 'Trans' 'Trans' 'Trans' 'Trans' 'Czech' 'Trans' 'Czech'\n",
      " 'Trans' 'Trans' 'Trans' 'Trans' 'Czech' 'Trans' 'Trans' 'Trans' 'Trans'\n",
      " 'Czech' 'Trans' 'Trans' 'Czech' 'Czech' 'Trans' 'Trans' 'Trans' 'Czech'\n",
      " 'Trans' 'Czech' 'Trans' 'Czech' 'Czech' 'Czech' 'Czech' 'Czech' 'Czech'\n",
      " 'Czech' 'Czech' 'Czech' 'Trans' 'Trans' 'Czech' 'Czech' 'Trans' 'Trans'\n",
      " 'Trans' 'Czech' 'Trans' 'Czech' 'Trans' 'Trans' 'Czech' 'Czech' 'Trans'\n",
      " 'Trans' 'Trans' 'Trans' 'Trans' 'Trans' 'Trans' 'Trans' 'Trans' 'Trans'\n",
      " 'Trans' 'Trans' 'Czech' 'Czech' 'Trans' 'Czech' 'Trans' 'Trans' 'Czech'\n",
      " 'Trans' 'Trans' 'Trans' 'Czech' 'Trans' 'Czech' 'Trans' 'Czech' 'Czech'\n",
      " 'Trans' 'Czech' 'Czech' 'Trans' 'Czech' 'Trans' 'Trans' 'Czech' 'Czech'\n",
      " 'Czech' 'Czech' 'Trans' 'Trans' 'Czech' 'Czech' 'Czech' 'Czech' 'Czech'\n",
      " 'Czech' 'Czech' 'Czech' 'Trans' 'Trans' 'Trans' 'Trans' 'Czech' 'Czech'\n",
      " 'Trans' 'Trans' 'Czech' 'Trans' 'Czech' 'Trans' 'Czech' 'Czech' 'Czech'\n",
      " 'Trans' 'Czech' 'Trans' 'Trans' 'Czech' 'Trans' 'Trans' 'Czech' 'Czech'\n",
      " 'Trans' 'Trans' 'Trans' 'Czech' 'Czech' 'Czech' 'Trans' 'Trans' 'Trans'\n",
      " 'Czech' 'Czech' 'Czech' 'Trans' 'Czech' 'Czech' 'Czech' 'Trans' 'Czech'\n",
      " 'Czech' 'Trans' 'Czech' 'Trans' 'Trans' 'Trans' 'Czech' 'Czech' 'Czech'\n",
      " 'Trans' 'Trans' 'Trans' 'Czech' 'Czech' 'Czech' 'Czech' 'Czech' 'Trans'\n",
      " 'Czech' 'Czech' 'Czech' 'Trans' 'Trans' 'Czech' 'Czech' 'Czech' 'Czech'\n",
      " 'Czech' 'Trans' 'Czech' 'Czech' 'Czech' 'Czech' 'Czech' 'Trans' 'Czech'\n",
      " 'Czech' 'Czech' 'Trans' 'Trans' 'Trans' 'Czech' 'Czech' 'Czech' 'Czech'\n",
      " 'Czech' 'Czech']\n"
     ]
    }
   ],
   "source": [
    "print(top2vec_model.doc_top)\n",
    "\n",
    "#ret = top2vec_model.hierarchical_topic_reduction(num_topics=2)\n",
    "topic_sizes, topic_nums = top2vec_model.get_topic_sizes()\n",
    "doc_top_reduced = [0] * (len(df))\n",
    "for topic_num in topic_nums: \n",
    "    documents, document_scores, document_ids = top2vec_model.search_documents_by_topic(topic_num=topic_num, num_docs=topic_sizes[topic_num])\n",
    "    for document_id, document_score in zip(document_ids, document_scores):\n",
    "        language = 'Czech' if df[df['Unnamed: 0'] == document_id]['srclang'].values[0] == 'cs: čeština' else 'Trans'\n",
    "        txtype = df[df['Unnamed: 0'] == document_id]['txtype'].values[0][:3] if df[df['Unnamed: 0'] == document_id]['txtype'].values[0][0] != 'X' else 'X' \n",
    "        #doc_top_reduced[document_id] = language + '  ' +  txtype\n",
    "        if txtype in ['NOV', 'COL', 'VER']:\n",
    "            ttype = 'fiction'\n",
    "        else:\n",
    "            ttype = 'non-fiction'    \n",
    "        doc_top_reduced[document_id] = language \n",
    "doc_top_reduced = np.array(doc_top_reduced) \n",
    "print(doc_top_reduced)"
   ]
  },
  {
   "cell_type": "code",
   "execution_count": 289,
   "metadata": {},
   "outputs": [
    {
     "name": "stdout",
     "output_type": "stream",
     "text": [
      "6\n"
     ]
    }
   ],
   "source": [
    "num_topics = top2vec_model.get_num_topics()\n",
    "print(num_topics)"
   ]
  },
  {
   "cell_type": "code",
   "execution_count": 8,
   "metadata": {},
   "outputs": [
    {
     "data": {
      "image/png": "[encoded data removed]",
      "text/plain": [
       "<Figure size 800x800 with 1 Axes>"
      ]
     },
     "metadata": {},
     "output_type": "display_data"
    }
   ],
   "source": [
    "import umap.plot\n",
    "\n",
    "umap_model = umap.UMAP(**umap_args_model).fit(top2vec_model.document_vectors)\n",
    "\n",
    "umap.plot.points(umap_model, color_key_cmap='tab20', labels= top2vec_model.doc_top) #\n",
    "\n",
    "plt.title('Topic visualization - NOV COL VER')\n",
    "\n",
    "plt.show()"
   ]
  },
  {
   "cell_type": "code",
   "execution_count": 7,
   "metadata": {},
   "outputs": [
    {
     "name": "stderr",
     "output_type": "stream",
     "text": [
      "/Users/charlottepanuskova/anaconda3/lib/python3.11/site-packages/dask/dataframe/_pyarrow_compat.py:17: FutureWarning: Minimal version of pyarrow will soon be increased to 14.0.1. You are using 11.0.0. Please consider upgrading.\n",
      "  warnings.warn(\n",
      "/Users/charlottepanuskova/anaconda3/lib/python3.11/site-packages/umap/plot.py:203: NumbaDeprecationWarning: \u001b[1mThe 'nopython' keyword argument was not supplied to the 'numba.jit' decorator. The implicit default value for this argument is currently False, but it will be changed to True in Numba 0.59.0. See https://numba.readthedocs.io/en/stable/reference/deprecation.html#deprecation-of-object-mode-fall-back-behaviour-when-using-jit for details.\u001b[0m\n",
      "  @numba.jit()\n"
     ]
    },
    {
     "data": {
      "image/png": "[encoded data removed]",
      "text/plain": [
       "<Figure size 800x800 with 1 Axes>"
      ]
     },
     "metadata": {},
     "output_type": "display_data"
    }
   ],
   "source": [
    "#num_topics = 10\n",
    "import umap.plot\n",
    "\n",
    "umap_model = umap.UMAP(**umap_args_model).fit(top2vec_model.document_vectors)\n",
    "\n",
    "umap.plot.points(umap_model, color_key_cmap='Paired', labels= doc_top_reduced) #'tab20'\n",
    "\n",
    "plt.title('Reduced to two clusters NOV COL VER')\n",
    "\n",
    "plt.show()"
   ]
  },
  {
   "cell_type": "code",
   "execution_count": 24,
   "metadata": {},
   "outputs": [
    {
     "name": "stderr",
     "output_type": "stream",
     "text": [
      "/var/folders/sq/pxhs33t53bz1x33q9fhn04w00000gn/T/ipykernel_66449/1185153489.py:25: UserWarning:\n",
      "\n",
      "set_ticklabels() should only be used with a fixed number of ticks, i.e. after set_ticks() or using a FixedLocator.\n",
      "\n"
     ]
    },
    {
     "data": {
      "image/png": "[encoded data removed]",
      "text/plain": [
       "<Figure size 640x480 with 1 Axes>"
      ]
     },
     "metadata": {},
     "output_type": "display_data"
    }
   ],
   "source": [
    "import matplotlib.pyplot as plt\n",
    "import seaborn as sns\n",
    "import pandas as pd\n",
    "import numpy as np\n",
    "\n",
    "czech_trans = []\n",
    "cluster = []\n",
    "value = []\n",
    "for top_num in np.unique(df.topic): \n",
    "    czech_trans.append('Czech')\n",
    "    value.append(len(df[(df['srclang'] == 'cs: čeština') & (df['topic'] == top_num)].index))\n",
    "    cluster.append(top_num)\n",
    "    czech_trans.append('Translated')\n",
    "    value.append(len(df[(df['srclang']  != 'cs: čeština') & (df['topic'] == top_num)].index))\n",
    "    cluster.append(top_num)\n",
    "\n",
    "data = pd.DataFrame({'Czech / Translated': czech_trans,\n",
    "                     'Value': value,\n",
    "                     'Cluster': cluster})\n",
    "data['Value'] = np.where(data['Czech / Translated'] == 'Czech', data['Value'], -data['Value'])\n",
    "ax = sns.barplot(data=data, x='Cluster', y='Value', hue='Czech / Translated', dodge=False, palette='husl')\n",
    "ax.axhline(0, lw=2, color='black')\n",
    "ax.set_ylabel('Number of titles')\n",
    "ax.set_title('Number of Czech and Translated Titles Within Clusters NOV COL MEM VER')\n",
    "ax.set_yticklabels(['250', '200', '150', '100', '50', '0', '50', '100', '150'])\n",
    "#ax.set_yticklabels([250, 200, 100,  0,  100,  200, 250])\n",
    "#sns.despine(left=True, bottom=True)\n",
    "plt.tight_layout()\n",
    "plt.show()"
   ]
  },
  {
   "cell_type": "code",
   "execution_count": 8,
   "metadata": {},
   "outputs": [],
   "source": [
    "import plotly.graph_objects as go\n",
    "import plotly.graph_objects as go\n",
    "import urllib, json\n",
    "\n"
   ]
  },
  {
   "cell_type": "code",
   "execution_count": 39,
   "metadata": {},
   "outputs": [
    {
     "data": {
      "application/vnd.plotly.v1+json": {
       "config": {
        "plotlyServerURL": "https://plot.ly"
       },
       "data": [
        {
         "link": {
          "color": [
           "rgba(31, 119, 180, 0.4)",
           "rgba(255, 127, 14, 0.4)",
           "rgba(255, 127, 14, 0.4)",
           "rgba(255, 127, 14, 0.4)",
           "rgba(255, 127, 14, 0.4)",
           "rgba(227, 119, 194, 0.4)",
           "rgba(127, 127, 127, 0.4)",
           "rgba(188, 189, 34, 0.4)",
           "rgba(31, 119, 180, 0.4)",
           "rgba(23, 190, 207, 0.4)",
           "rgba(255, 127, 14, 0.4)",
           "rgba(255, 127, 14, 0.4)",
           "rgba(255, 127, 14, 0.4)",
           "rgba(140, 86, 75, 0.4)",
           "rgba(140, 86, 75, 0.4)",
           "rgba(140, 86, 75, 0.4)",
           "rgba(140, 86, 75, 0.4)",
           "rgba(140, 86, 75, 0.4)",
           "rgba(140, 86, 75, 0.4)",
           "rgba(140, 86, 75, 0.4)",
           "rgba(140, 86, 75, 0.4)",
           "rgba(140, 86, 75, 0.4)",
           "rgba(140, 86, 75, 0.4)",
           "rgba(140, 86, 75, 0.4)",
           "rgba(214, 39, 40, 0.4)",
           "rgba(140, 86, 75, 0.4)",
           "rgba(140, 86, 75, 0.4)",
           "rgba(140, 86, 75, 0.4)",
           "rgba(140, 86, 75, 0.4)",
           "rgba(140, 86, 75, 0.4)",
           "rgba(140, 86, 75, 0.4)",
           "rgba(127, 127, 127, 0.4)",
           "rgba(127, 127, 127, 0.4)",
           "rgba(127, 127, 127, 0.4)",
           "rgba(188, 189, 34, 0.4)",
           "rgba(23, 190, 207, 0.4)",
           "rgba(44, 160, 44, 0.4)",
           "rgba(44, 160, 44, 0.4)",
           "rgba(44, 160, 44, 0.4)",
           "rgba(44, 160, 44, 0.4)",
           "rgba(44, 160, 44, 0.4)",
           "rgba(44, 160, 44, 0.4)",
           "rgba(44, 160, 44, 0.4)",
           "rgba(44, 160, 44, 0.4)",
           "rgba(148, 103, 189, 0.4)",
           "rgba(148, 103, 189, 0.4)",
           "rgba(255,0,255, 0.4)",
           "rgba(255,0,255, 0.4)",
           "rgba(227, 119, 194, 0.4)",
           "rgba(188, 189, 34, 0.4)",
           "rgba(127, 127, 127, 0.4)",
           "rgba(23, 190, 207, 0.4)",
           "rgba(23, 190, 207, 0.4)",
           "rgba(31, 119, 180, 0.4)",
           "rgba(31, 119, 180, 0.4)",
           "rgba(255, 127, 14, 0.4)",
           "rgba(44, 160, 44, 0.4)",
           "rgba(214, 39, 40, 0.4)",
           "rgba(214, 39, 40, 0.4)",
           "rgba(148, 103, 189, 0.4)",
           "rgba(148, 103, 189, 0.4)",
           "rgba(148, 103, 189, 0.4)",
           "rgba(227, 119, 194, 0.4)",
           "rgba(227, 119, 194, 0.4)",
           "rgba(227, 119, 194, 0.4)",
           "rgba(148, 103, 189, 0.4)",
           "rgba(140, 86, 75, 0.4)",
           "rgba(227, 119, 194, 0.4)",
           "rgba(127, 127, 127, 0.4)",
           "rgba(255,0,255, 0.4)",
           "rgba(255,0,255, 0.4)"
          ],
          "label": [
           "stream 1",
           "",
           "",
           "",
           "stream 1",
           "",
           "",
           "",
           "",
           "",
           "",
           "",
           "",
           "",
           "",
           "",
           "",
           "",
           "",
           "",
           "",
           "",
           "",
           "",
           "",
           "",
           "",
           "",
           "",
           "",
           "stream 1",
           "",
           "",
           "",
           "",
           "",
           "",
           "",
           "",
           "",
           "",
           "",
           "",
           "",
           "",
           "",
           "Old generation plant (made-up)",
           "New generation plant (made-up)",
           "",
           "",
           "",
           "",
           "",
           "",
           "",
           "",
           "",
           "",
           "",
           "",
           "",
           "",
           "",
           "",
           "",
           "",
           "",
           "",
           "",
           "",
           ""
          ],
          "source": [
           0,
           1,
           1,
           1,
           1,
           6,
           7,
           8,
           10,
           9,
           11,
           11,
           11,
           15,
           15,
           15,
           15,
           15,
           15,
           15,
           15,
           15,
           15,
           15,
           23,
           25,
           5,
           5,
           5,
           5,
           5,
           27,
           17,
           17,
           28,
           29,
           2,
           2,
           2,
           2,
           2,
           2,
           2,
           2,
           34,
           24,
           35,
           35,
           36,
           38,
           37,
           39,
           39,
           40,
           40,
           41,
           42,
           43,
           43,
           4,
           4,
           4,
           26,
           26,
           26,
           44,
           45,
           46,
           47,
           35,
           35
          ],
          "target": [
           1,
           2,
           3,
           4,
           5,
           2,
           4,
           9,
           9,
           4,
           12,
           13,
           14,
           16,
           14,
           17,
           12,
           18,
           19,
           13,
           3,
           20,
           21,
           22,
           24,
           24,
           13,
           3,
           26,
           19,
           12,
           15,
           28,
           3,
           18,
           15,
           12,
           30,
           18,
           31,
           32,
           19,
           33,
           20,
           1,
           5,
           26,
           26,
           37,
           37,
           2,
           4,
           1,
           14,
           13,
           15,
           14,
           42,
           41,
           19,
           26,
           12,
           15,
           3,
           11,
           15,
           1,
           15,
           15,
           26,
           26
          ],
          "value": [
           124.729,
           0.597,
           26.862,
           280.322,
           81.144,
           35,
           35,
           11.606,
           63.965,
           75.571,
           10.639,
           22.505,
           46.184,
           104.453,
           113.726,
           27.14,
           342.165,
           37.797,
           4.412,
           40.858,
           56.691,
           7.863,
           90.008,
           93.494,
           40.719,
           82.233,
           0.129,
           1.401,
           151.891,
           2.096,
           48.58,
           7.013,
           20.897,
           6.242,
           20.897,
           6.995,
           121.066,
           128.69,
           135.835,
           14.458,
           206.267,
           3.64,
           33.218,
           4.413,
           14.375,
           122.952,
           500,
           139.978,
           504.287,
           107.703,
           611.99,
           56.587,
           77.81,
           193.026,
           70.672,
           59.901,
           19.263,
           19.263,
           59.901,
           0.882,
           400.12,
           46.477,
           525.531,
           787.129,
           79.329,
           9.452,
           182.01,
           19.013,
           289.366,
           100,
           100
          ]
         },
         "node": {
          "color": [
           "rgba(31, 119, 180, 0.8)",
           "rgba(255, 127, 14, 0.8)",
           "rgba(44, 160, 44, 0.8)",
           "rgba(214, 39, 40, 0.8)",
           "rgba(148, 103, 189, 0.8)",
           "rgba(140, 86, 75, 0.8)",
           "rgba(227, 119, 194, 0.8)",
           "rgba(127, 127, 127, 0.8)",
           "rgba(188, 189, 34, 0.8)",
           "rgba(23, 190, 207, 0.8)",
           "rgba(31, 119, 180, 0.8)",
           "rgba(255, 127, 14, 0.8)",
           "rgba(44, 160, 44, 0.8)",
           "rgba(214, 39, 40, 0.8)",
           "rgba(148, 103, 189, 0.8)",
           "rgba(140, 86, 75, 0.8)",
           "rgba(227, 119, 194, 0.8)",
           "rgba(127, 127, 127, 0.8)",
           "rgba(188, 189, 34, 0.8)",
           "rgba(23, 190, 207, 0.8)",
           "rgba(31, 119, 180, 0.8)",
           "rgba(255, 127, 14, 0.8)",
           "rgba(44, 160, 44, 0.8)",
           "rgba(214, 39, 40, 0.8)",
           "rgba(148, 103, 189, 0.8)",
           "rgba(140, 86, 75, 0.8)",
           "rgba(227, 119, 194, 0.8)",
           "rgba(127, 127, 127, 0.8)",
           "rgba(188, 189, 34, 0.8)",
           "rgba(23, 190, 207, 0.8)",
           "rgba(31, 119, 180, 0.8)",
           "rgba(255, 127, 14, 0.8)",
           "rgba(44, 160, 44, 0.8)",
           "rgba(214, 39, 40, 0.8)",
           "rgba(148, 103, 189, 0.8)",
           "rgba(255,0,255, 0.8)",
           "rgba(227, 119, 194, 0.8)",
           "rgba(127, 127, 127, 0.8)",
           "rgba(188, 189, 34, 0.8)",
           "rgba(23, 190, 207, 0.8)",
           "rgba(31, 119, 180, 0.8)",
           "rgba(255, 127, 14, 0.8)",
           "rgba(44, 160, 44, 0.8)",
           "rgba(214, 39, 40, 0.8)",
           "rgba(148, 103, 189, 0.8)",
           "rgba(140, 86, 75, 0.8)",
           "rgba(227, 119, 194, 0.8)",
           "rgba(127, 127, 127, 0.8)"
          ],
          "label": [
           "Agricultural 'waste'",
           "Bio-conversion",
           "Liquid",
           "Losses",
           "Solid",
           "Gas",
           "Biofuel imports",
           "Biomass imports",
           "Coal imports",
           "Coal",
           "Coal reserves",
           "District heating",
           "Industry",
           "Heating and cooling - commercial",
           "Heating and cooling - homes",
           "Electricity grid",
           "Over generation / exports",
           "H2 conversion",
           "Road transport",
           "Agriculture",
           "Rail transport",
           "Lighting & appliances - commercial",
           "Lighting & appliances - homes",
           "Gas imports",
           "Ngas",
           "Gas reserves",
           "Thermal generation",
           "Geothermal",
           "H2",
           "Hydro",
           "International shipping",
           "Domestic aviation",
           "International aviation",
           "National navigation",
           "Marine algae",
           "Nuclear",
           "Oil imports",
           "Oil",
           "Oil reserves",
           "Other waste",
           "Pumped heat",
           "Solar PV",
           "Solar Thermal",
           "Solar",
           "Tidal",
           "UK land based bioenergy",
           "Wave",
           "Wind"
          ],
          "line": {
           "color": "black",
           "width": 0.5
          },
          "pad": 15,
          "thickness": 15
         },
         "type": "sankey",
         "valueformat": ".0f",
         "valuesuffix": "TWh"
        }
       ],
       "layout": {
        "font": {
         "size": 10
        },
        "template": {
         "data": {
          "bar": [
           {
            "error_x": {
             "color": "#2a3f5f"
            },
            "error_y": {
             "color": "#2a3f5f"
            },
            "marker": {
             "line": {
              "color": "#E5ECF6",
              "width": 0.5
             },
             "pattern": {
              "fillmode": "overlay",
              "size": 10,
              "solidity": 0.2
             }
            },
            "type": "bar"
           }
          ],
          "barpolar": [
           {
            "marker": {
             "line": {
              "color": "#E5ECF6",
              "width": 0.5
             },
             "pattern": {
              "fillmode": "overlay",
              "size": 10,
              "solidity": 0.2
             }
            },
            "type": "barpolar"
           }
          ],
          "carpet": [
           {
            "aaxis": {
             "endlinecolor": "#2a3f5f",
             "gridcolor": "white",
             "linecolor": "white",
             "minorgridcolor": "white",
             "startlinecolor": "#2a3f5f"
            },
            "baxis": {
             "endlinecolor": "#2a3f5f",
             "gridcolor": "white",
             "linecolor": "white",
             "minorgridcolor": "white",
             "startlinecolor": "#2a3f5f"
            },
            "type": "carpet"
           }
          ],
          "choropleth": [
           {
            "colorbar": {
             "outlinewidth": 0,
             "ticks": ""
            },
            "type": "choropleth"
           }
          ],
          "contour": [
           {
            "colorbar": {
             "outlinewidth": 0,
             "ticks": ""
            },
            "colorscale": [
             [
              0,
              "#0d0887"
             ],
             [
              0.1111111111111111,
              "#46039f"
             ],
             [
              0.2222222222222222,
              "#7201a8"
             ],
             [
              0.3333333333333333,
              "#9c179e"
             ],
             [
              0.4444444444444444,
              "#bd3786"
             ],
             [
              0.5555555555555556,
              "#d8576b"
             ],
             [
              0.6666666666666666,
              "#ed7953"
             ],
             [
              0.7777777777777778,
              "#fb9f3a"
             ],
             [
              0.8888888888888888,
              "#fdca26"
             ],
             [
              1,
              "#f0f921"
             ]
            ],
            "type": "contour"
           }
          ],
          "contourcarpet": [
           {
            "colorbar": {
             "outlinewidth": 0,
             "ticks": ""
            },
            "type": "contourcarpet"
           }
          ],
          "heatmap": [
           {
            "colorbar": {
             "outlinewidth": 0,
             "ticks": ""
            },
            "colorscale": [
             [
              0,
              "#0d0887"
             ],
             [
              0.1111111111111111,
              "#46039f"
             ],
             [
              0.2222222222222222,
              "#7201a8"
             ],
             [
              0.3333333333333333,
              "#9c179e"
             ],
             [
              0.4444444444444444,
              "#bd3786"
             ],
             [
              0.5555555555555556,
              "#d8576b"
             ],
             [
              0.6666666666666666,
              "#ed7953"
             ],
             [
              0.7777777777777778,
              "#fb9f3a"
             ],
             [
              0.8888888888888888,
              "#fdca26"
             ],
             [
              1,
              "#f0f921"
             ]
            ],
            "type": "heatmap"
           }
          ],
          "heatmapgl": [
           {
            "colorbar": {
             "outlinewidth": 0,
             "ticks": ""
            },
            "colorscale": [
             [
              0,
              "#0d0887"
             ],
             [
              0.1111111111111111,
              "#46039f"
             ],
             [
              0.2222222222222222,
              "#7201a8"
             ],
             [
              0.3333333333333333,
              "#9c179e"
             ],
             [
              0.4444444444444444,
              "#bd3786"
             ],
             [
              0.5555555555555556,
              "#d8576b"
             ],
             [
              0.6666666666666666,
              "#ed7953"
             ],
             [
              0.7777777777777778,
              "#fb9f3a"
             ],
             [
              0.8888888888888888,
              "#fdca26"
             ],
             [
              1,
              "#f0f921"
             ]
            ],
            "type": "heatmapgl"
           }
          ],
          "histogram": [
           {
            "marker": {
             "pattern": {
              "fillmode": "overlay",
              "size": 10,
              "solidity": 0.2
             }
            },
            "type": "histogram"
           }
          ],
          "histogram2d": [
           {
            "colorbar": {
             "outlinewidth": 0,
             "ticks": ""
            },
            "colorscale": [
             [
              0,
              "#0d0887"
             ],
             [
              0.1111111111111111,
              "#46039f"
             ],
             [
              0.2222222222222222,
              "#7201a8"
             ],
             [
              0.3333333333333333,
              "#9c179e"
             ],
             [
              0.4444444444444444,
              "#bd3786"
             ],
             [
              0.5555555555555556,
              "#d8576b"
             ],
             [
              0.6666666666666666,
              "#ed7953"
             ],
             [
              0.7777777777777778,
              "#fb9f3a"
             ],
             [
              0.8888888888888888,
              "#fdca26"
             ],
             [
              1,
              "#f0f921"
             ]
            ],
            "type": "histogram2d"
           }
          ],
          "histogram2dcontour": [
           {
            "colorbar": {
             "outlinewidth": 0,
             "ticks": ""
            },
            "colorscale": [
             [
              0,
              "#0d0887"
             ],
             [
              0.1111111111111111,
              "#46039f"
             ],
             [
              0.2222222222222222,
              "#7201a8"
             ],
             [
              0.3333333333333333,
              "#9c179e"
             ],
             [
              0.4444444444444444,
              "#bd3786"
             ],
             [
              0.5555555555555556,
              "#d8576b"
             ],
             [
              0.6666666666666666,
              "#ed7953"
             ],
             [
              0.7777777777777778,
              "#fb9f3a"
             ],
             [
              0.8888888888888888,
              "#fdca26"
             ],
             [
              1,
              "#f0f921"
             ]
            ],
            "type": "histogram2dcontour"
           }
          ],
          "mesh3d": [
           {
            "colorbar": {
             "outlinewidth": 0,
             "ticks": ""
            },
            "type": "mesh3d"
           }
          ],
          "parcoords": [
           {
            "line": {
             "colorbar": {
              "outlinewidth": 0,
              "ticks": ""
             }
            },
            "type": "parcoords"
           }
          ],
          "pie": [
           {
            "automargin": true,
            "type": "pie"
           }
          ],
          "scatter": [
           {
            "fillpattern": {
             "fillmode": "overlay",
             "size": 10,
             "solidity": 0.2
            },
            "type": "scatter"
           }
          ],
          "scatter3d": [
           {
            "line": {
             "colorbar": {
              "outlinewidth": 0,
              "ticks": ""
             }
            },
            "marker": {
             "colorbar": {
              "outlinewidth": 0,
              "ticks": ""
             }
            },
            "type": "scatter3d"
           }
          ],
          "scattercarpet": [
           {
            "marker": {
             "colorbar": {
              "outlinewidth": 0,
              "ticks": ""
             }
            },
            "type": "scattercarpet"
           }
          ],
          "scattergeo": [
           {
            "marker": {
             "colorbar": {
              "outlinewidth": 0,
              "ticks": ""
             }
            },
            "type": "scattergeo"
           }
          ],
          "scattergl": [
           {
            "marker": {
             "colorbar": {
              "outlinewidth": 0,
              "ticks": ""
             }
            },
            "type": "scattergl"
           }
          ],
          "scattermapbox": [
           {
            "marker": {
             "colorbar": {
              "outlinewidth": 0,
              "ticks": ""
             }
            },
            "type": "scattermapbox"
           }
          ],
          "scatterpolar": [
           {
            "marker": {
             "colorbar": {
              "outlinewidth": 0,
              "ticks": ""
             }
            },
            "type": "scatterpolar"
           }
          ],
          "scatterpolargl": [
           {
            "marker": {
             "colorbar": {
              "outlinewidth": 0,
              "ticks": ""
             }
            },
            "type": "scatterpolargl"
           }
          ],
          "scatterternary": [
           {
            "marker": {
             "colorbar": {
              "outlinewidth": 0,
              "ticks": ""
             }
            },
            "type": "scatterternary"
           }
          ],
          "surface": [
           {
            "colorbar": {
             "outlinewidth": 0,
             "ticks": ""
            },
            "colorscale": [
             [
              0,
              "#0d0887"
             ],
             [
              0.1111111111111111,
              "#46039f"
             ],
             [
              0.2222222222222222,
              "#7201a8"
             ],
             [
              0.3333333333333333,
              "#9c179e"
             ],
             [
              0.4444444444444444,
              "#bd3786"
             ],
             [
              0.5555555555555556,
              "#d8576b"
             ],
             [
              0.6666666666666666,
              "#ed7953"
             ],
             [
              0.7777777777777778,
              "#fb9f3a"
             ],
             [
              0.8888888888888888,
              "#fdca26"
             ],
             [
              1,
              "#f0f921"
             ]
            ],
            "type": "surface"
           }
          ],
          "table": [
           {
            "cells": {
             "fill": {
              "color": "#EBF0F8"
             },
             "line": {
              "color": "white"
             }
            },
            "header": {
             "fill": {
              "color": "#C8D4E3"
             },
             "line": {
              "color": "white"
             }
            },
            "type": "table"
           }
          ]
         },
         "layout": {
          "annotationdefaults": {
           "arrowcolor": "#2a3f5f",
           "arrowhead": 0,
           "arrowwidth": 1
          },
          "autotypenumbers": "strict",
          "coloraxis": {
           "colorbar": {
            "outlinewidth": 0,
            "ticks": ""
           }
          },
          "colorscale": {
           "diverging": [
            [
             0,
             "#8e0152"
            ],
            [
             0.1,
             "#c51b7d"
            ],
            [
             0.2,
             "#de77ae"
            ],
            [
             0.3,
             "#f1b6da"
            ],
            [
             0.4,
             "#fde0ef"
            ],
            [
             0.5,
             "#f7f7f7"
            ],
            [
             0.6,
             "#e6f5d0"
            ],
            [
             0.7,
             "#b8e186"
            ],
            [
             0.8,
             "#7fbc41"
            ],
            [
             0.9,
             "#4d9221"
            ],
            [
             1,
             "#276419"
            ]
           ],
           "sequential": [
            [
             0,
             "#0d0887"
            ],
            [
             0.1111111111111111,
             "#46039f"
            ],
            [
             0.2222222222222222,
             "#7201a8"
            ],
            [
             0.3333333333333333,
             "#9c179e"
            ],
            [
             0.4444444444444444,
             "#bd3786"
            ],
            [
             0.5555555555555556,
             "#d8576b"
            ],
            [
             0.6666666666666666,
             "#ed7953"
            ],
            [
             0.7777777777777778,
             "#fb9f3a"
            ],
            [
             0.8888888888888888,
             "#fdca26"
            ],
            [
             1,
             "#f0f921"
            ]
           ],
           "sequentialminus": [
            [
             0,
             "#0d0887"
            ],
            [
             0.1111111111111111,
             "#46039f"
            ],
            [
             0.2222222222222222,
             "#7201a8"
            ],
            [
             0.3333333333333333,
             "#9c179e"
            ],
            [
             0.4444444444444444,
             "#bd3786"
            ],
            [
             0.5555555555555556,
             "#d8576b"
            ],
            [
             0.6666666666666666,
             "#ed7953"
            ],
            [
             0.7777777777777778,
             "#fb9f3a"
            ],
            [
             0.8888888888888888,
             "#fdca26"
            ],
            [
             1,
             "#f0f921"
            ]
           ]
          },
          "colorway": [
           "#636efa",
           "#EF553B",
           "#00cc96",
           "#ab63fa",
           "#FFA15A",
           "#19d3f3",
           "#FF6692",
           "#B6E880",
           "#FF97FF",
           "#FECB52"
          ],
          "font": {
           "color": "#2a3f5f"
          },
          "geo": {
           "bgcolor": "white",
           "lakecolor": "white",
           "landcolor": "#E5ECF6",
           "showlakes": true,
           "showland": true,
           "subunitcolor": "white"
          },
          "hoverlabel": {
           "align": "left"
          },
          "hovermode": "closest",
          "mapbox": {
           "style": "light"
          },
          "paper_bgcolor": "white",
          "plot_bgcolor": "#E5ECF6",
          "polar": {
           "angularaxis": {
            "gridcolor": "white",
            "linecolor": "white",
            "ticks": ""
           },
           "bgcolor": "#E5ECF6",
           "radialaxis": {
            "gridcolor": "white",
            "linecolor": "white",
            "ticks": ""
           }
          },
          "scene": {
           "xaxis": {
            "backgroundcolor": "#E5ECF6",
            "gridcolor": "white",
            "gridwidth": 2,
            "linecolor": "white",
            "showbackground": true,
            "ticks": "",
            "zerolinecolor": "white"
           },
           "yaxis": {
            "backgroundcolor": "#E5ECF6",
            "gridcolor": "white",
            "gridwidth": 2,
            "linecolor": "white",
            "showbackground": true,
            "ticks": "",
            "zerolinecolor": "white"
           },
           "zaxis": {
            "backgroundcolor": "#E5ECF6",
            "gridcolor": "white",
            "gridwidth": 2,
            "linecolor": "white",
            "showbackground": true,
            "ticks": "",
            "zerolinecolor": "white"
           }
          },
          "shapedefaults": {
           "line": {
            "color": "#2a3f5f"
           }
          },
          "ternary": {
           "aaxis": {
            "gridcolor": "white",
            "linecolor": "white",
            "ticks": ""
           },
           "baxis": {
            "gridcolor": "white",
            "linecolor": "white",
            "ticks": ""
           },
           "bgcolor": "#E5ECF6",
           "caxis": {
            "gridcolor": "white",
            "linecolor": "white",
            "ticks": ""
           }
          },
          "title": {
           "x": 0.05
          },
          "xaxis": {
           "automargin": true,
           "gridcolor": "white",
           "linecolor": "white",
           "ticks": "",
           "title": {
            "standoff": 15
           },
           "zerolinecolor": "white",
           "zerolinewidth": 2
          },
          "yaxis": {
           "automargin": true,
           "gridcolor": "white",
           "linecolor": "white",
           "ticks": "",
           "title": {
            "standoff": 15
           },
           "zerolinecolor": "white",
           "zerolinewidth": 2
          }
         }
        },
        "title": {
         "text": "Energy forecast for 2050<br>Source: Department of Energy & Climate Change, Tom Counsell via <a href='https://bost.ocks.org/mike/sankey/'>Mike Bostock</a>"
        }
       }
      }
     },
     "metadata": {},
     "output_type": "display_data"
    }
   ],
   "source": [
    "url = 'https://raw.githubusercontent.com/plotly/plotly.js/master/test/image/mocks/sankey_energy.json'\n",
    "response = urllib.request.urlopen(url)\n",
    "data = json.loads(response.read())\n",
    "\n",
    "# override gray link colors with 'source' colors\n",
    "opacity = 0.4\n",
    "# change 'magenta' to its 'rgba' value to add opacity\n",
    "data['data'][0]['node']['color'] = ['rgba(255,0,255, 0.8)' if color == \"magenta\" else color for color in data['data'][0]['node']['color']]\n",
    "data['data'][0]['link']['color'] = [data['data'][0]['node']['color'][src].replace(\"0.8\", str(opacity))\n",
    "                                    for src in data['data'][0]['link']['source']]\n",
    "\n",
    "fig = go.Figure(data=[go.Sankey(\n",
    "    valueformat = \".0f\",\n",
    "    valuesuffix = \"TWh\",\n",
    "    # Define nodes\n",
    "    node = dict(\n",
    "      pad = 15,\n",
    "      thickness = 15,\n",
    "      line = dict(color = \"black\", width = 0.5),\n",
    "      label =  data['data'][0]['node']['label'],\n",
    "      color =  data['data'][0]['node']['color']\n",
    "    ),\n",
    "    # Add links\n",
    "    link = dict(\n",
    "      source =  data['data'][0]['link']['source'],\n",
    "      target =  data['data'][0]['link']['target'],\n",
    "      value =  data['data'][0]['link']['value'],\n",
    "      label =  data['data'][0]['link']['label'],\n",
    "      color =  data['data'][0]['link']['color']\n",
    "))])\n",
    "\n",
    "fig.update_layout(title_text=\"Energy forecast for 2050<br>Source: Department of Energy & Climate Change, Tom Counsell via <a href='https://bost.ocks.org/mike/sankey/'>Mike Bostock</a>\",\n",
    "                  font_size=10)\n",
    "fig.show()\n"
   ]
  },
  {
   "cell_type": "code",
   "execution_count": 31,
   "metadata": {},
   "outputs": [],
   "source": [
    "file_all = 'top2vec_umap_n_n15_hdbscan_m_c_s15_doc2vec_new_NOV_COL_MEM_VER' #'top2vec_umap_n_n15_hdbscan_m_c_s15_doc2vec_new' #_NOV_COL_MEM_VER\n",
    "df_path_all = 'data/results/top2vec/whole books  NOV COL MEM VER/{file}.xlsx'.format(file = file_all) #  NOV COL MEM VER\n",
    "df_all = pd.read_excel(df_path_all)\n",
    "\n",
    "file_nov_col_mem_ver = 'without_cs_top2vec_umap_n_n15_hdbscan_m_c_s15_doc2vec_new_NOV_COL_MEM_VER'#'top2vec_umap_n_n15_hdbscan_m_c_s15_doc2vec_new_NOV_COL_VER' \n",
    "df_path_nov_col_mem_ver = 'data/results/top2vec/whole books  NOV COL MEM VER/{file}.xlsx'.format(file = file_nov_col_mem_ver) #\n",
    "df_nov_col_mem_ver = pd.read_excel(df_path_nov_col_mem_ver)\n",
    "\n",
    "df_all['topic_fiction'] = df_all.apply(lambda row: df_nov_col_mem_ver[(df_nov_col_mem_ver['title'] == row['title'])&(df_nov_col_mem_ver['author'] == row['author'])]['topic'].values[0] + 100 if row['txtype'][:3] in ['NOV', 'COL','MEM',  'VER'] else 'vyřazeno' , axis=1 )"
   ]
  },
  {
   "cell_type": "code",
   "execution_count": 5,
   "metadata": {},
   "outputs": [
    {
     "data": {
      "text/html": [
       "<div>\n",
       "<style scoped>\n",
       "    .dataframe tbody tr th:only-of-type {\n",
       "        vertical-align: middle;\n",
       "    }\n",
       "\n",
       "    .dataframe tbody tr th {\n",
       "        vertical-align: top;\n",
       "    }\n",
       "\n",
       "    .dataframe thead th {\n",
       "        text-align: right;\n",
       "    }\n",
       "</style>\n",
       "<table border=\"1\" class=\"dataframe\">\n",
       "  <thead>\n",
       "    <tr style=\"text-align: right;\">\n",
       "      <th></th>\n",
       "      <th>Unnamed: 0</th>\n",
       "      <th>title</th>\n",
       "      <th>author</th>\n",
       "      <th>publisher</th>\n",
       "      <th>first_published</th>\n",
       "      <th>authsex</th>\n",
       "      <th>translator</th>\n",
       "      <th>srclang</th>\n",
       "      <th>txtype</th>\n",
       "      <th>audience</th>\n",
       "      <th>topic</th>\n",
       "      <th>score</th>\n",
       "      <th>topic_fiction</th>\n",
       "    </tr>\n",
       "  </thead>\n",
       "  <tbody>\n",
       "    <tr>\n",
       "      <th>0</th>\n",
       "      <td>0</td>\n",
       "      <td>Planeta lykantů</td>\n",
       "      <td>Garen, Jean-Pierre</td>\n",
       "      <td>Najáda</td>\n",
       "      <td>1992</td>\n",
       "      <td>M: muž</td>\n",
       "      <td>Procházková, Eva</td>\n",
       "      <td>fr: francouzština</td>\n",
       "      <td>NOV: próza</td>\n",
       "      <td>GEN: obecné publikum\"&gt;</td>\n",
       "      <td>1</td>\n",
       "      <td>0.293261</td>\n",
       "      <td>101</td>\n",
       "    </tr>\n",
       "    <tr>\n",
       "      <th>1</th>\n",
       "      <td>1</td>\n",
       "      <td>Fiesta</td>\n",
       "      <td>Hemingway, Ernest</td>\n",
       "      <td>Svoboda</td>\n",
       "      <td>1966</td>\n",
       "      <td>M: muž</td>\n",
       "      <td>Vrba, František</td>\n",
       "      <td>en: angličtina</td>\n",
       "      <td>NOV: próza</td>\n",
       "      <td>GEN: obecné publikum\"&gt;</td>\n",
       "      <td>1</td>\n",
       "      <td>0.275249</td>\n",
       "      <td>100</td>\n",
       "    </tr>\n",
       "    <tr>\n",
       "      <th>2</th>\n",
       "      <td>2</td>\n",
       "      <td>Příběh inženýra lidských duší</td>\n",
       "      <td>Škvorecký, Josef</td>\n",
       "      <td>Atlantis</td>\n",
       "      <td>1977</td>\n",
       "      <td>M: muž</td>\n",
       "      <td>X</td>\n",
       "      <td>cs: čeština</td>\n",
       "      <td>NOV: próza</td>\n",
       "      <td>GEN: obecné publikum\"&gt;</td>\n",
       "      <td>0</td>\n",
       "      <td>0.257948</td>\n",
       "      <td>100</td>\n",
       "    </tr>\n",
       "    <tr>\n",
       "      <th>3</th>\n",
       "      <td>3</td>\n",
       "      <td>Píseň o lítosti</td>\n",
       "      <td>Fischl, Viktor</td>\n",
       "      <td>Atlantis</td>\n",
       "      <td>1982</td>\n",
       "      <td>M: muž</td>\n",
       "      <td>X</td>\n",
       "      <td>cs: čeština</td>\n",
       "      <td>NOV: próza</td>\n",
       "      <td>GEN: obecné publikum\"&gt;</td>\n",
       "      <td>2</td>\n",
       "      <td>0.341688</td>\n",
       "      <td>101</td>\n",
       "    </tr>\n",
       "    <tr>\n",
       "      <th>4</th>\n",
       "      <td>596</td>\n",
       "      <td>Povolání: žena</td>\n",
       "      <td>Bombecková, Erma</td>\n",
       "      <td>Ikar</td>\n",
       "      <td>1994</td>\n",
       "      <td>F: žena</td>\n",
       "      <td>Hauserová, Eva - Stohrová, Lydie</td>\n",
       "      <td>en: angličtina</td>\n",
       "      <td>COL: kratší próza</td>\n",
       "      <td>GEN: obecné publikum\"&gt;</td>\n",
       "      <td>5</td>\n",
       "      <td>0.564542</td>\n",
       "      <td>100</td>\n",
       "    </tr>\n",
       "  </tbody>\n",
       "</table>\n",
       "</div>"
      ],
      "text/plain": [
       "   Unnamed: 0                          title              author publisher  \\\n",
       "0           0                Planeta lykantů  Garen, Jean-Pierre    Najáda   \n",
       "1           1                         Fiesta   Hemingway, Ernest   Svoboda   \n",
       "2           2  Příběh inženýra lidských duší    Škvorecký, Josef  Atlantis   \n",
       "3           3                Píseň o lítosti      Fischl, Viktor  Atlantis   \n",
       "4         596                 Povolání: žena    Bombecková, Erma      Ikar   \n",
       "\n",
       "   first_published  authsex                        translator  \\\n",
       "0             1992   M: muž                  Procházková, Eva   \n",
       "1             1966   M: muž                   Vrba, František   \n",
       "2             1977   M: muž                                 X   \n",
       "3             1982   M: muž                                 X   \n",
       "4             1994  F: žena  Hauserová, Eva - Stohrová, Lydie   \n",
       "\n",
       "             srclang             txtype                audience  topic  \\\n",
       "0  fr: francouzština         NOV: próza  GEN: obecné publikum\">      1   \n",
       "1     en: angličtina         NOV: próza  GEN: obecné publikum\">      1   \n",
       "2        cs: čeština         NOV: próza  GEN: obecné publikum\">      0   \n",
       "3        cs: čeština         NOV: próza  GEN: obecné publikum\">      2   \n",
       "4     en: angličtina  COL: kratší próza  GEN: obecné publikum\">      5   \n",
       "\n",
       "      score  topic_fiction  \n",
       "0  0.293261            101  \n",
       "1  0.275249            100  \n",
       "2  0.257948            100  \n",
       "3  0.341688            101  \n",
       "4  0.564542            100  "
      ]
     },
     "execution_count": 5,
     "metadata": {},
     "output_type": "execute_result"
    }
   ],
   "source": [
    "df_all.head()"
   ]
  },
  {
   "cell_type": "code",
   "execution_count": 32,
   "metadata": {},
   "outputs": [],
   "source": [
    "df_link = pd.DataFrame()\n",
    "\n",
    "df_all['trans'] = df_all['srclang'].apply(lambda x: 'Czech' if x == 'cs: čeština' else 'Trans')\n",
    "df_all['txtype_trans']= df_all[['txtype', 'trans']].apply(lambda x: str(x['txtype']) + ' ' + x['trans'] if x['txtype']  != 'X' else 'X' + ' ' + x['trans'] , axis = 1) #document_id]['txtype'].values[0][:3] if df[df['Unnamed: 0'] == document_id]['txtype'].values[0][0] != 'X' else 'X' \n",
    "df_link['source']  = df_all[['topic','topic_fiction']].apply(lambda x: x).drop_duplicates()['topic'].to_list()\n",
    "df_link['target'] = df_all[['topic','topic_fiction']].apply(lambda x: x).drop_duplicates()['topic_fiction'].to_list()\n",
    "df_link['value'] = df_link.apply(lambda row: len(df_all[(df_all['topic'] == row['source'])&(df_all['topic_fiction'] == row['target'])]), axis = 1).to_list()\n",
    "\n",
    "\n",
    "#df_link = df_link.to_dict()"
   ]
  },
  {
   "cell_type": "code",
   "execution_count": 170,
   "metadata": {},
   "outputs": [
    {
     "data": {
      "text/plain": [
       "0                       NOV: próza Trans\n",
       "1                       NOV: próza Trans\n",
       "2                       NOV: próza Czech\n",
       "3                       NOV: próza Czech\n",
       "4                       NOV: próza Trans\n",
       "                      ...               \n",
       "1485    NEW: tradiční publicistika Czech\n",
       "1486    NEW: tradiční publicistika Czech\n",
       "1487    NEW: tradiční publicistika Czech\n",
       "1488    NEW: tradiční publicistika Czech\n",
       "1489    NEW: tradiční publicistika Czech\n",
       "Name: txtype_trans, Length: 1490, dtype: object"
      ]
     },
     "execution_count": 170,
     "metadata": {},
     "output_type": "execute_result"
    }
   ],
   "source": [
    "np.unique(df_link['value'])\n",
    "df_all['txtype'] == df_all['txtype']\n",
    "df_all['txtype_trans']"
   ]
  },
  {
   "cell_type": "code",
   "execution_count": 33,
   "metadata": {},
   "outputs": [
    {
     "data": {
      "application/vnd.plotly.v1+json": {
       "config": {
        "plotlyServerURL": "https://plot.ly"
       },
       "data": [
        {
         "link": {
          "source": [
           1,
           0,
           2,
           5,
           3,
           2,
           4,
           3,
           2,
           1,
           4,
           0,
           5,
           1,
           0,
           4,
           0,
           5,
           3,
           2,
           5,
           4
          ],
          "target": [
           100,
           101,
           102,
           100,
           103,
           100,
           100,
           100,
           103,
           101,
           102,
           103,
           102,
           103,
           102,
           101,
           100,
           101,
           102,
           101,
           103,
           103
          ],
          "value": [
           163,
           231,
           107,
           46,
           59,
           7,
           21,
           6,
           9,
           9,
           27,
           1,
           3,
           1,
           2,
           10,
           2,
           5,
           1,
           5,
           1,
           1
          ]
         },
         "node": {
          "line": {
           "color": "black",
           "width": 0.5
          },
          "thickness": 15
         },
         "type": "sankey"
        }
       ],
       "layout": {
        "template": {
         "data": {
          "bar": [
           {
            "error_x": {
             "color": "#2a3f5f"
            },
            "error_y": {
             "color": "#2a3f5f"
            },
            "marker": {
             "line": {
              "color": "#E5ECF6",
              "width": 0.5
             },
             "pattern": {
              "fillmode": "overlay",
              "size": 10,
              "solidity": 0.2
             }
            },
            "type": "bar"
           }
          ],
          "barpolar": [
           {
            "marker": {
             "line": {
              "color": "#E5ECF6",
              "width": 0.5
             },
             "pattern": {
              "fillmode": "overlay",
              "size": 10,
              "solidity": 0.2
             }
            },
            "type": "barpolar"
           }
          ],
          "carpet": [
           {
            "aaxis": {
             "endlinecolor": "#2a3f5f",
             "gridcolor": "white",
             "linecolor": "white",
             "minorgridcolor": "white",
             "startlinecolor": "#2a3f5f"
            },
            "baxis": {
             "endlinecolor": "#2a3f5f",
             "gridcolor": "white",
             "linecolor": "white",
             "minorgridcolor": "white",
             "startlinecolor": "#2a3f5f"
            },
            "type": "carpet"
           }
          ],
          "choropleth": [
           {
            "colorbar": {
             "outlinewidth": 0,
             "ticks": ""
            },
            "type": "choropleth"
           }
          ],
          "contour": [
           {
            "colorbar": {
             "outlinewidth": 0,
             "ticks": ""
            },
            "colorscale": [
             [
              0,
              "#0d0887"
             ],
             [
              0.1111111111111111,
              "#46039f"
             ],
             [
              0.2222222222222222,
              "#7201a8"
             ],
             [
              0.3333333333333333,
              "#9c179e"
             ],
             [
              0.4444444444444444,
              "#bd3786"
             ],
             [
              0.5555555555555556,
              "#d8576b"
             ],
             [
              0.6666666666666666,
              "#ed7953"
             ],
             [
              0.7777777777777778,
              "#fb9f3a"
             ],
             [
              0.8888888888888888,
              "#fdca26"
             ],
             [
              1,
              "#f0f921"
             ]
            ],
            "type": "contour"
           }
          ],
          "contourcarpet": [
           {
            "colorbar": {
             "outlinewidth": 0,
             "ticks": ""
            },
            "type": "contourcarpet"
           }
          ],
          "heatmap": [
           {
            "colorbar": {
             "outlinewidth": 0,
             "ticks": ""
            },
            "colorscale": [
             [
              0,
              "#0d0887"
             ],
             [
              0.1111111111111111,
              "#46039f"
             ],
             [
              0.2222222222222222,
              "#7201a8"
             ],
             [
              0.3333333333333333,
              "#9c179e"
             ],
             [
              0.4444444444444444,
              "#bd3786"
             ],
             [
              0.5555555555555556,
              "#d8576b"
             ],
             [
              0.6666666666666666,
              "#ed7953"
             ],
             [
              0.7777777777777778,
              "#fb9f3a"
             ],
             [
              0.8888888888888888,
              "#fdca26"
             ],
             [
              1,
              "#f0f921"
             ]
            ],
            "type": "heatmap"
           }
          ],
          "heatmapgl": [
           {
            "colorbar": {
             "outlinewidth": 0,
             "ticks": ""
            },
            "colorscale": [
             [
              0,
              "#0d0887"
             ],
             [
              0.1111111111111111,
              "#46039f"
             ],
             [
              0.2222222222222222,
              "#7201a8"
             ],
             [
              0.3333333333333333,
              "#9c179e"
             ],
             [
              0.4444444444444444,
              "#bd3786"
             ],
             [
              0.5555555555555556,
              "#d8576b"
             ],
             [
              0.6666666666666666,
              "#ed7953"
             ],
             [
              0.7777777777777778,
              "#fb9f3a"
             ],
             [
              0.8888888888888888,
              "#fdca26"
             ],
             [
              1,
              "#f0f921"
             ]
            ],
            "type": "heatmapgl"
           }
          ],
          "histogram": [
           {
            "marker": {
             "pattern": {
              "fillmode": "overlay",
              "size": 10,
              "solidity": 0.2
             }
            },
            "type": "histogram"
           }
          ],
          "histogram2d": [
           {
            "colorbar": {
             "outlinewidth": 0,
             "ticks": ""
            },
            "colorscale": [
             [
              0,
              "#0d0887"
             ],
             [
              0.1111111111111111,
              "#46039f"
             ],
             [
              0.2222222222222222,
              "#7201a8"
             ],
             [
              0.3333333333333333,
              "#9c179e"
             ],
             [
              0.4444444444444444,
              "#bd3786"
             ],
             [
              0.5555555555555556,
              "#d8576b"
             ],
             [
              0.6666666666666666,
              "#ed7953"
             ],
             [
              0.7777777777777778,
              "#fb9f3a"
             ],
             [
              0.8888888888888888,
              "#fdca26"
             ],
             [
              1,
              "#f0f921"
             ]
            ],
            "type": "histogram2d"
           }
          ],
          "histogram2dcontour": [
           {
            "colorbar": {
             "outlinewidth": 0,
             "ticks": ""
            },
            "colorscale": [
             [
              0,
              "#0d0887"
             ],
             [
              0.1111111111111111,
              "#46039f"
             ],
             [
              0.2222222222222222,
              "#7201a8"
             ],
             [
              0.3333333333333333,
              "#9c179e"
             ],
             [
              0.4444444444444444,
              "#bd3786"
             ],
             [
              0.5555555555555556,
              "#d8576b"
             ],
             [
              0.6666666666666666,
              "#ed7953"
             ],
             [
              0.7777777777777778,
              "#fb9f3a"
             ],
             [
              0.8888888888888888,
              "#fdca26"
             ],
             [
              1,
              "#f0f921"
             ]
            ],
            "type": "histogram2dcontour"
           }
          ],
          "mesh3d": [
           {
            "colorbar": {
             "outlinewidth": 0,
             "ticks": ""
            },
            "type": "mesh3d"
           }
          ],
          "parcoords": [
           {
            "line": {
             "colorbar": {
              "outlinewidth": 0,
              "ticks": ""
             }
            },
            "type": "parcoords"
           }
          ],
          "pie": [
           {
            "automargin": true,
            "type": "pie"
           }
          ],
          "scatter": [
           {
            "fillpattern": {
             "fillmode": "overlay",
             "size": 10,
             "solidity": 0.2
            },
            "type": "scatter"
           }
          ],
          "scatter3d": [
           {
            "line": {
             "colorbar": {
              "outlinewidth": 0,
              "ticks": ""
             }
            },
            "marker": {
             "colorbar": {
              "outlinewidth": 0,
              "ticks": ""
             }
            },
            "type": "scatter3d"
           }
          ],
          "scattercarpet": [
           {
            "marker": {
             "colorbar": {
              "outlinewidth": 0,
              "ticks": ""
             }
            },
            "type": "scattercarpet"
           }
          ],
          "scattergeo": [
           {
            "marker": {
             "colorbar": {
              "outlinewidth": 0,
              "ticks": ""
             }
            },
            "type": "scattergeo"
           }
          ],
          "scattergl": [
           {
            "marker": {
             "colorbar": {
              "outlinewidth": 0,
              "ticks": ""
             }
            },
            "type": "scattergl"
           }
          ],
          "scattermapbox": [
           {
            "marker": {
             "colorbar": {
              "outlinewidth": 0,
              "ticks": ""
             }
            },
            "type": "scattermapbox"
           }
          ],
          "scatterpolar": [
           {
            "marker": {
             "colorbar": {
              "outlinewidth": 0,
              "ticks": ""
             }
            },
            "type": "scatterpolar"
           }
          ],
          "scatterpolargl": [
           {
            "marker": {
             "colorbar": {
              "outlinewidth": 0,
              "ticks": ""
             }
            },
            "type": "scatterpolargl"
           }
          ],
          "scatterternary": [
           {
            "marker": {
             "colorbar": {
              "outlinewidth": 0,
              "ticks": ""
             }
            },
            "type": "scatterternary"
           }
          ],
          "surface": [
           {
            "colorbar": {
             "outlinewidth": 0,
             "ticks": ""
            },
            "colorscale": [
             [
              0,
              "#0d0887"
             ],
             [
              0.1111111111111111,
              "#46039f"
             ],
             [
              0.2222222222222222,
              "#7201a8"
             ],
             [
              0.3333333333333333,
              "#9c179e"
             ],
             [
              0.4444444444444444,
              "#bd3786"
             ],
             [
              0.5555555555555556,
              "#d8576b"
             ],
             [
              0.6666666666666666,
              "#ed7953"
             ],
             [
              0.7777777777777778,
              "#fb9f3a"
             ],
             [
              0.8888888888888888,
              "#fdca26"
             ],
             [
              1,
              "#f0f921"
             ]
            ],
            "type": "surface"
           }
          ],
          "table": [
           {
            "cells": {
             "fill": {
              "color": "#EBF0F8"
             },
             "line": {
              "color": "white"
             }
            },
            "header": {
             "fill": {
              "color": "#C8D4E3"
             },
             "line": {
              "color": "white"
             }
            },
            "type": "table"
           }
          ]
         },
         "layout": {
          "annotationdefaults": {
           "arrowcolor": "#2a3f5f",
           "arrowhead": 0,
           "arrowwidth": 1
          },
          "autotypenumbers": "strict",
          "coloraxis": {
           "colorbar": {
            "outlinewidth": 0,
            "ticks": ""
           }
          },
          "colorscale": {
           "diverging": [
            [
             0,
             "#8e0152"
            ],
            [
             0.1,
             "#c51b7d"
            ],
            [
             0.2,
             "#de77ae"
            ],
            [
             0.3,
             "#f1b6da"
            ],
            [
             0.4,
             "#fde0ef"
            ],
            [
             0.5,
             "#f7f7f7"
            ],
            [
             0.6,
             "#e6f5d0"
            ],
            [
             0.7,
             "#b8e186"
            ],
            [
             0.8,
             "#7fbc41"
            ],
            [
             0.9,
             "#4d9221"
            ],
            [
             1,
             "#276419"
            ]
           ],
           "sequential": [
            [
             0,
             "#0d0887"
            ],
            [
             0.1111111111111111,
             "#46039f"
            ],
            [
             0.2222222222222222,
             "#7201a8"
            ],
            [
             0.3333333333333333,
             "#9c179e"
            ],
            [
             0.4444444444444444,
             "#bd3786"
            ],
            [
             0.5555555555555556,
             "#d8576b"
            ],
            [
             0.6666666666666666,
             "#ed7953"
            ],
            [
             0.7777777777777778,
             "#fb9f3a"
            ],
            [
             0.8888888888888888,
             "#fdca26"
            ],
            [
             1,
             "#f0f921"
            ]
           ],
           "sequentialminus": [
            [
             0,
             "#0d0887"
            ],
            [
             0.1111111111111111,
             "#46039f"
            ],
            [
             0.2222222222222222,
             "#7201a8"
            ],
            [
             0.3333333333333333,
             "#9c179e"
            ],
            [
             0.4444444444444444,
             "#bd3786"
            ],
            [
             0.5555555555555556,
             "#d8576b"
            ],
            [
             0.6666666666666666,
             "#ed7953"
            ],
            [
             0.7777777777777778,
             "#fb9f3a"
            ],
            [
             0.8888888888888888,
             "#fdca26"
            ],
            [
             1,
             "#f0f921"
            ]
           ]
          },
          "colorway": [
           "#636efa",
           "#EF553B",
           "#00cc96",
           "#ab63fa",
           "#FFA15A",
           "#19d3f3",
           "#FF6692",
           "#B6E880",
           "#FF97FF",
           "#FECB52"
          ],
          "font": {
           "color": "#2a3f5f"
          },
          "geo": {
           "bgcolor": "white",
           "lakecolor": "white",
           "landcolor": "#E5ECF6",
           "showlakes": true,
           "showland": true,
           "subunitcolor": "white"
          },
          "hoverlabel": {
           "align": "left"
          },
          "hovermode": "closest",
          "mapbox": {
           "style": "light"
          },
          "paper_bgcolor": "white",
          "plot_bgcolor": "#E5ECF6",
          "polar": {
           "angularaxis": {
            "gridcolor": "white",
            "linecolor": "white",
            "ticks": ""
           },
           "bgcolor": "#E5ECF6",
           "radialaxis": {
            "gridcolor": "white",
            "linecolor": "white",
            "ticks": ""
           }
          },
          "scene": {
           "xaxis": {
            "backgroundcolor": "#E5ECF6",
            "gridcolor": "white",
            "gridwidth": 2,
            "linecolor": "white",
            "showbackground": true,
            "ticks": "",
            "zerolinecolor": "white"
           },
           "yaxis": {
            "backgroundcolor": "#E5ECF6",
            "gridcolor": "white",
            "gridwidth": 2,
            "linecolor": "white",
            "showbackground": true,
            "ticks": "",
            "zerolinecolor": "white"
           },
           "zaxis": {
            "backgroundcolor": "#E5ECF6",
            "gridcolor": "white",
            "gridwidth": 2,
            "linecolor": "white",
            "showbackground": true,
            "ticks": "",
            "zerolinecolor": "white"
           }
          },
          "shapedefaults": {
           "line": {
            "color": "#2a3f5f"
           }
          },
          "ternary": {
           "aaxis": {
            "gridcolor": "white",
            "linecolor": "white",
            "ticks": ""
           },
           "baxis": {
            "gridcolor": "white",
            "linecolor": "white",
            "ticks": ""
           },
           "bgcolor": "#E5ECF6",
           "caxis": {
            "gridcolor": "white",
            "linecolor": "white",
            "ticks": ""
           }
          },
          "title": {
           "x": 0.05
          },
          "xaxis": {
           "automargin": true,
           "gridcolor": "white",
           "linecolor": "white",
           "ticks": "",
           "title": {
            "standoff": 15
           },
           "zerolinecolor": "white",
           "zerolinewidth": 2
          },
          "yaxis": {
           "automargin": true,
           "gridcolor": "white",
           "linecolor": "white",
           "ticks": "",
           "title": {
            "standoff": 15
           },
           "zerolinecolor": "white",
           "zerolinewidth": 2
          }
         }
        }
       }
      }
     },
     "metadata": {},
     "output_type": "display_data"
    }
   ],
   "source": [
    "fig = go.Figure(data=[go.Sankey(\n",
    "\n",
    "    # Define nodes\n",
    "    node = dict(\n",
    "      thickness = 15,\n",
    "      line = dict(color = \"black\", width = 0.5),\n",
    "      \n",
    "    ),\n",
    "    # Add links\n",
    "    link = dict(\n",
    "      source =  df_link['source'],\n",
    "      target =  df_link['target'],\n",
    "      value =  df_link['value'],\n",
    "))])\n",
    "\n",
    "\n",
    "fig.show()\n"
   ]
  },
  {
   "cell_type": "code",
   "execution_count": 34,
   "metadata": {},
   "outputs": [
    {
     "name": "stdout",
     "output_type": "stream",
     "text": [
      "1 [163] 100\n",
      "0 [231] 101\n",
      "2 [107] 102\n",
      "5 [46] 100\n",
      "3 [59] 103\n",
      "2 [7] 100\n",
      "4 [21] 100\n",
      "3 [6] 100\n",
      "2 [9] 103\n",
      "1 [9] 101\n",
      "4 [27] 102\n",
      "0 [1] 103\n",
      "5 [3] 102\n",
      "1 [1] 103\n",
      "0 [2] 102\n",
      "4 [10] 101\n",
      "0 [2] 100\n",
      "5 [5] 101\n",
      "3 [1] 102\n",
      "2 [5] 101\n",
      "5 [1] 103\n",
      "4 [1] 103\n"
     ]
    }
   ],
   "source": [
    "for source, target, value in zip(df_link['source'], df_link['target'], df_link['value'] ): #zip(data['data'][0]['link']['source'], data['data'][0]['link']['target'], data['data'][0]['link']['value'] ):\n",
    "    #print((source, target), ': ', value)\n",
    "    print(str(source) +  ' [' + str(value)+'] ' + str(target))\n",
    "\n",
    "\n",
    "\n",
    "#data['data'][0]['link']['label']"
   ]
  },
  {
   "cell_type": "code",
   "execution_count": 183,
   "metadata": {},
   "outputs": [
    {
     "data": {
      "text/plain": [
       "['rgba(31, 119, 180, 0.4)',\n",
       " 'rgba(255, 127, 14, 0.4)',\n",
       " 'rgba(255, 127, 14, 0.4)',\n",
       " 'rgba(255, 127, 14, 0.4)',\n",
       " 'rgba(255, 127, 14, 0.4)',\n",
       " 'rgba(227, 119, 194, 0.4)',\n",
       " 'rgba(127, 127, 127, 0.4)',\n",
       " 'rgba(188, 189, 34, 0.4)',\n",
       " 'rgba(31, 119, 180, 0.4)',\n",
       " 'rgba(23, 190, 207, 0.4)',\n",
       " 'rgba(255, 127, 14, 0.4)',\n",
       " 'rgba(255, 127, 14, 0.4)',\n",
       " 'rgba(255, 127, 14, 0.4)',\n",
       " 'rgba(140, 86, 75, 0.4)',\n",
       " 'rgba(140, 86, 75, 0.4)',\n",
       " 'rgba(140, 86, 75, 0.4)',\n",
       " 'rgba(140, 86, 75, 0.4)',\n",
       " 'rgba(140, 86, 75, 0.4)',\n",
       " 'rgba(140, 86, 75, 0.4)',\n",
       " 'rgba(140, 86, 75, 0.4)',\n",
       " 'rgba(140, 86, 75, 0.4)',\n",
       " 'rgba(140, 86, 75, 0.4)',\n",
       " 'rgba(140, 86, 75, 0.4)',\n",
       " 'rgba(140, 86, 75, 0.4)',\n",
       " 'rgba(214, 39, 40, 0.4)',\n",
       " 'rgba(140, 86, 75, 0.4)',\n",
       " 'rgba(140, 86, 75, 0.4)',\n",
       " 'rgba(140, 86, 75, 0.4)',\n",
       " 'rgba(140, 86, 75, 0.4)',\n",
       " 'rgba(140, 86, 75, 0.4)',\n",
       " 'rgba(140, 86, 75, 0.4)',\n",
       " 'rgba(127, 127, 127, 0.4)',\n",
       " 'rgba(127, 127, 127, 0.4)',\n",
       " 'rgba(127, 127, 127, 0.4)',\n",
       " 'rgba(188, 189, 34, 0.4)',\n",
       " 'rgba(23, 190, 207, 0.4)',\n",
       " 'rgba(44, 160, 44, 0.4)',\n",
       " 'rgba(44, 160, 44, 0.4)',\n",
       " 'rgba(44, 160, 44, 0.4)',\n",
       " 'rgba(44, 160, 44, 0.4)',\n",
       " 'rgba(44, 160, 44, 0.4)',\n",
       " 'rgba(44, 160, 44, 0.4)',\n",
       " 'rgba(44, 160, 44, 0.4)',\n",
       " 'rgba(44, 160, 44, 0.4)',\n",
       " 'rgba(148, 103, 189, 0.4)',\n",
       " 'rgba(148, 103, 189, 0.4)',\n",
       " 'rgba(255,0,255, 0.4)',\n",
       " 'rgba(255,0,255, 0.4)',\n",
       " 'rgba(227, 119, 194, 0.4)',\n",
       " 'rgba(188, 189, 34, 0.4)',\n",
       " 'rgba(127, 127, 127, 0.4)',\n",
       " 'rgba(23, 190, 207, 0.4)',\n",
       " 'rgba(23, 190, 207, 0.4)',\n",
       " 'rgba(31, 119, 180, 0.4)',\n",
       " 'rgba(31, 119, 180, 0.4)',\n",
       " 'rgba(255, 127, 14, 0.4)',\n",
       " 'rgba(44, 160, 44, 0.4)',\n",
       " 'rgba(214, 39, 40, 0.4)',\n",
       " 'rgba(214, 39, 40, 0.4)',\n",
       " 'rgba(148, 103, 189, 0.4)',\n",
       " 'rgba(148, 103, 189, 0.4)',\n",
       " 'rgba(148, 103, 189, 0.4)',\n",
       " 'rgba(227, 119, 194, 0.4)',\n",
       " 'rgba(227, 119, 194, 0.4)',\n",
       " 'rgba(227, 119, 194, 0.4)',\n",
       " 'rgba(148, 103, 189, 0.4)',\n",
       " 'rgba(140, 86, 75, 0.4)',\n",
       " 'rgba(227, 119, 194, 0.4)',\n",
       " 'rgba(127, 127, 127, 0.4)',\n",
       " 'rgba(255,0,255, 0.4)',\n",
       " 'rgba(255,0,255, 0.4)']"
      ]
     },
     "execution_count": 183,
     "metadata": {},
     "output_type": "execute_result"
    }
   ],
   "source": [
    "data['data'][0]['link']['color']"
   ]
  }
 ],
 "metadata": {
  "kernelspec": {
   "display_name": "base",
   "language": "python",
   "name": "python3"
  },
  "language_info": {
   "codemirror_mode": {
    "name": "ipython",
    "version": 3
   },
   "file_extension": ".py",
   "mimetype": "text/x-python",
   "name": "python",
   "nbconvert_exporter": "python",
   "pygments_lexer": "ipython3",
   "version": "3.11.7"
  }
 },
 "nbformat": 4,
 "nbformat_minor": 2
}
