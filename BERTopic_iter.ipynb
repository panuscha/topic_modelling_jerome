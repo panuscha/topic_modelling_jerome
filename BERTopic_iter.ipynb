{
 "cells": [
  {
   "cell_type": "code",
   "execution_count": 1,
   "metadata": {},
   "outputs": [
    {
     "name": "stderr",
     "output_type": "stream",
     "text": [
      "/Users/charlottepanuskova/anaconda3/lib/python3.11/site-packages/umap/distances.py:1063: NumbaDeprecationWarning: \u001b[1mThe 'nopython' keyword argument was not supplied to the 'numba.jit' decorator. The implicit default value for this argument is currently False, but it will be changed to True in Numba 0.59.0. See https://numba.readthedocs.io/en/stable/reference/deprecation.html#deprecation-of-object-mode-fall-back-behaviour-when-using-jit for details.\u001b[0m\n",
      "  @numba.jit()\n",
      "/Users/charlottepanuskova/anaconda3/lib/python3.11/site-packages/umap/distances.py:1071: NumbaDeprecationWarning: \u001b[1mThe 'nopython' keyword argument was not supplied to the 'numba.jit' decorator. The implicit default value for this argument is currently False, but it will be changed to True in Numba 0.59.0. See https://numba.readthedocs.io/en/stable/reference/deprecation.html#deprecation-of-object-mode-fall-back-behaviour-when-using-jit for details.\u001b[0m\n",
      "  @numba.jit()\n",
      "/Users/charlottepanuskova/anaconda3/lib/python3.11/site-packages/umap/distances.py:1086: NumbaDeprecationWarning: \u001b[1mThe 'nopython' keyword argument was not supplied to the 'numba.jit' decorator. The implicit default value for this argument is currently False, but it will be changed to True in Numba 0.59.0. See https://numba.readthedocs.io/en/stable/reference/deprecation.html#deprecation-of-object-mode-fall-back-behaviour-when-using-jit for details.\u001b[0m\n",
      "  @numba.jit()\n",
      "/Users/charlottepanuskova/anaconda3/lib/python3.11/site-packages/umap/umap_.py:660: NumbaDeprecationWarning: \u001b[1mThe 'nopython' keyword argument was not supplied to the 'numba.jit' decorator. The implicit default value for this argument is currently False, but it will be changed to True in Numba 0.59.0. See https://numba.readthedocs.io/en/stable/reference/deprecation.html#deprecation-of-object-mode-fall-back-behaviour-when-using-jit for details.\u001b[0m\n",
      "  @numba.jit()\n"
     ]
    }
   ],
   "source": [
    "from bertopic import BERTopic\n",
    "from umap import UMAP\n",
    "from hdbscan import HDBSCAN\n",
    "from sklearn.feature_extraction.text import CountVectorizer\n",
    "from nltk.tokenize import sent_tokenize, word_tokenize\n",
    "from gensim.models.doc2vec import Doc2Vec, TaggedDocument\n",
    "from read_corpus_functions import load_books_blocks_from_document, load_books_from_document, load_books_chunks_from_document, load_books_from_document_without_residual_ner\n",
    "from sentence_transformers import SentenceTransformer\n",
    "from datasets import load_dataset\n",
    "import tempfile\n",
    "import pickle\n",
    "from gensim.utils import simple_preprocess\n",
    "from gensim.parsing.preprocessing import strip_tags\n",
    "from gensim.models.phrases import Phrases\n",
    "import pandas as pd \n",
    "import numpy as np\n",
    "import matplotlib.pyplot as plt"
   ]
  },
  {
   "cell_type": "code",
   "execution_count": 2,
   "metadata": {},
   "outputs": [],
   "source": [
    "path = \"data/lem/all\"\n",
    "file_name =   \"jerome_synv9_all\" #\"jerome_synv9_id_no_names_blocks\"  \"jerome_synv9_id\" #_NOV_MEM_COL_deep_learn\n",
    "file_path = path+\"/\"+file_name + \".txt\"\n",
    "txtype_select = []\n",
    "books, books_info = load_books_from_document_without_residual_ner(file_path, txtype_select, 'ner_combined.obj')"
   ]
  },
  {
   "cell_type": "code",
   "execution_count": 3,
   "metadata": {},
   "outputs": [],
   "source": [
    "def heat_map_visualization(df):\n",
    "    languages = df.srclang.unique()\n",
    "    topics = np.unique(df.topic.unique())   \n",
    "    heat_mat = np.zeros(shape=(len(topics), 3))\n",
    "    for i, topic in enumerate(topics):\n",
    "        for j, language in enumerate(languages):\n",
    "            print(str(topic) + ' ' + str(language) )\n",
    "            print(len(df[(df.topic == topic) & (df.srclang == language)].index)   )\n",
    "            if language in ['cs: čeština']: #, 'en: angličtina'\n",
    "                heat_mat[i][0] = len(df[(df.topic == topic) & (df.srclang == language)].index) \n",
    "            elif language in ['en: angličtina']: #, \n",
    "                heat_mat[i][1] = len(df[(df.topic == topic) & (df.srclang == language)].index)   \n",
    "            else:\n",
    "                heat_mat[i][2] += len(df[(df.topic == topic) & (df.srclang == language)].index)     \n",
    "        heat_mat[i][0] = heat_mat[i][0] /  len(df[(df.topic == topic)])  \n",
    "        heat_mat[i][1] = heat_mat[i][1] /  len(df[(df.topic == topic)])\n",
    "        heat_mat[i][2] = heat_mat[i][2] /  len(df[(df.topic == topic)])\n",
    "    return heat_mat\n",
    "\n",
    "\n",
    "def plot_heat_map(heat_mat, df, save_name):\n",
    "    plt.figure(figsize=(15, 12))\n",
    "    fig = plt.imshow(heat_mat, cmap='viridis', interpolation='nearest')\n",
    "    plt.xticks(range(3), ['cz','en', 'other'])\n",
    "    num_topics = len(df.topic.unique()) \n",
    "    y_ticks = ['Topic ' + str(n-1) for n in range(num_topics)]\n",
    "    plt.yticks(range(num_topics), y_ticks)\n",
    "    plt.colorbar(fig)\n",
    "    plt.savefig(\"plots/whole books/bertopic/{}\".format(save_name))\n",
    "\n"
   ]
  },
  {
   "cell_type": "code",
   "execution_count": null,
   "metadata": {},
   "outputs": [],
   "source": [
    "for embedding_name in ['paraphrase-multilingual-MiniLM-L12-v2', 'distiluse-base-multilingual-cased-v2']:\n",
    "    embedding_model = SentenceTransformer(embedding_name)\n",
    "    embeddings = embedding_model.encode(books, show_progress_bar=True)\n",
    "    for u_map_n_neighbours in range(4, 5, 1):\n",
    "        umap_model = UMAP(n_neighbors=u_map_n_neighbours, n_components=5, metric='cosine', random_state=42)\n",
    "        for hdbscan_min_cluster_size in range(3, 12, 1):\n",
    "            \n",
    "            hdbscan_model = HDBSCAN(min_cluster_size=hdbscan_min_cluster_size, metric='euclidean', cluster_selection_method='eom', prediction_data=True)\n",
    "            topic_model = BERTopic(\n",
    "\n",
    "            # Pipeline models\n",
    "            umap_model=umap_model,\n",
    "            hdbscan_model=hdbscan_model,\n",
    "            embedding_model=embedding_model,\n",
    "            #embedding_model=ft,\n",
    "\n",
    "            # Hyperparameters\n",
    "            top_n_words=10,\n",
    "            verbose=True\n",
    "            )\n",
    "\n",
    "            topics, probs = topic_model.fit_transform(books, embeddings)\n",
    "            save_name = 'bert_umap_n_n{}_hdbscan_m_c_s{}_{}'.format(str(u_map_n_neighbours), str(hdbscan_min_cluster_size), str(embedding_name))\n",
    "            topic_model.save('models/whole books/bertopic/{}'.format(save_name), serialization=\"pickle\")\n",
    "\n",
    "            df_topics = pd.DataFrame(topic_model.get_topics())\n",
    "            df_topics.to_excel('data/topic words/BERTopic/whole books/{}.xlsx'.format(save_name))\n",
    "\n",
    "\n",
    "            titles = [book_info['title'] for _,book_info in enumerate(books_info)]\n",
    "            authors = [book_info['author'] for _,book_info in enumerate(books_info)]\n",
    "            src_langs = [book_info['srclang'] for _,book_info in enumerate(books_info)]\n",
    "            txtypes = [book_info['txtype'] for _,book_info in enumerate(books_info)]\n",
    "            df = pd.DataFrame({'topic': topics, 'title': titles, 'author': authors, 'srclang': src_langs, 'txtype': txtypes})\n",
    "\n",
    "            df.to_excel('data/results/BERTopic/whole books/{}.xlsx'.format(save_name))\n",
    "\n",
    "            heat_mat = heat_map_visualization(df)\n",
    "            plot_heat_map(heat_mat, df, save_name)\n",
    "            \n",
    " "
   ]
  }
 ],
 "metadata": {
  "kernelspec": {
   "display_name": "base",
   "language": "python",
   "name": "python3"
  },
  "language_info": {
   "codemirror_mode": {
    "name": "ipython",
    "version": 3
   },
   "file_extension": ".py",
   "mimetype": "text/x-python",
   "name": "python",
   "nbconvert_exporter": "python",
   "pygments_lexer": "ipython3",
   "version": "3.11.7"
  }
 },
 "nbformat": 4,
 "nbformat_minor": 2
}
